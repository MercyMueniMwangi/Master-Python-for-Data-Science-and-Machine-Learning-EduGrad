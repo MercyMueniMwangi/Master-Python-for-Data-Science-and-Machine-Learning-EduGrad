{
  "cells": [
    {
      "metadata": {},
      "cell_type": "markdown",
      "source": "# Let's Review what We Have Learned So Far"
    },
    {
      "metadata": {
        "trusted": true
      },
      "cell_type": "code",
      "source": "# Add two numbers which you take as an input from the user\n\na = float(input(\"Enter the first number: \"))\nb = float(input(\"Enter the second number: \"))\n\ns = a + b\n\nprint('Sum: ', s)",
      "execution_count": 1,
      "outputs": [
        {
          "output_type": "stream",
          "name": "stdout",
          "text": "Enter the first number: 5\nEnter the second number: 5\nSum:  10.0\n"
        }
      ]
    },
    {
      "metadata": {
        "trusted": true
      },
      "cell_type": "code",
      "source": "# Take an integer as an input from the user and print your name that many times\n\nnum = int(input('Number of times: '))#number of times the user wants to print their name\nname = input(\"Your Name: \") #your name or the name you want to print\n\nfor i in range(num):\n    print(name)",
      "execution_count": 2,
      "outputs": [
        {
          "output_type": "stream",
          "name": "stdout",
          "text": "Number of times: 5\nYour Name: Mercy\nMercy\nMercy\nMercy\nMercy\nMercy\n"
        }
      ]
    },
    {
      "metadata": {
        "trusted": true
      },
      "cell_type": "code",
      "source": "# The same thing as before but this time using a while loop instead of a for-loop\n\nnum = int(input('Number of times: '))\nname = input(\"Your Name: \") #your name or the name you want to print\ncount = 0\nwhile count < num:\n    print(name)\n    \n    count += 1",
      "execution_count": 3,
      "outputs": [
        {
          "output_type": "stream",
          "name": "stdout",
          "text": "Number of times: 5\nYour Name: Mueni\nMueni\nMueni\nMueni\nMueni\nMueni\n"
        }
      ]
    },
    {
      "metadata": {
        "trusted": true
      },
      "cell_type": "code",
      "source": "# The same thing as before but this time using a while loop instead of a for-loop, change the initialization of count\n\nnum = int(input('Number of times: '))\nname = input(\"Your Name: \") #your name or the name you want to print\ncount = 1\nwhile count <= num:\n    print(name)\n    \n    count += 1",
      "execution_count": 4,
      "outputs": [
        {
          "output_type": "stream",
          "name": "stdout",
          "text": "Number of times: 5\nYour Name: Mueni\nMueni\nMueni\nMueni\nMueni\nMueni\n"
        }
      ]
    },
    {
      "metadata": {
        "trusted": true
      },
      "cell_type": "code",
      "source": "# Display the multiplication table of the number input by the user\n\nnum = int(input('Times table: '))# this accepts the user input\n\nfor i in range(1, 11): # this multiplies the user input by 1 all through to 10\n    print(i, 'x', num, '=', i * num) ",
      "execution_count": 5,
      "outputs": [
        {
          "output_type": "stream",
          "name": "stdout",
          "text": "Times table: 200\n1 x 200 = 200\n2 x 200 = 400\n3 x 200 = 600\n4 x 200 = 800\n5 x 200 = 1000\n6 x 200 = 1200\n7 x 200 = 1400\n8 x 200 = 1600\n9 x 200 = 1800\n10 x 200 = 2000\n"
        }
      ]
    },
    {
      "metadata": {
        "trusted": true
      },
      "cell_type": "code",
      "source": "# Take as input 2 numbers, then take in an operator and output the result\n# an operator can be + or - or * or / or anything else like % or //\n\na = float(input('First number: '))\nb = float(input('Second number: '))\n\noperator = input('Operator: ')\n\nif operator == '+':\n    print('Add: ', a + b)\nelif operator == '-':\n    print('Subtract: ', a - b)\nelif operator == '*':\n    print('Multiply: ', a * b)\nelif operator == '/':\n    print('Divide: ', a / b)\nelse:\n    print('Operator not supported')",
      "execution_count": 6,
      "outputs": [
        {
          "output_type": "stream",
          "name": "stdout",
          "text": "First number: 50\nSecond number: 56\nOperator: /\nDivide:  0.8928571428571429\n"
        }
      ]
    },
    {
      "metadata": {
        "trusted": true
      },
      "cell_type": "code",
      "source": "# Reverse a string without using [:::-1]\n\noriginal = input('Enter a string: ')\n\nindex = len(original) - 1 #sets index as length of the string - 1 say we have a string with a length 4 say home\n                          #then the index be the index of the last element which is 3\nreversed_string = '' # we intialize an empty string\n\nwhile index >= 0: #Index shoul be greater or equal to 0 ie the string should not be empty\n    reversed_string += original[index] #our new string should be equal our empty string plus the value of index which is [e]\n    \n    index = index - 1 #this is our stoping criteria. when the loop reaches here the takes the index 3 - 1 which is two then\n                      # intitializes our index at two then loops again until the value of index is 0\n    print(reversed_string)\n    \nprint('Original: ', original)\nprint('Reversed: ', reversed_string)",
      "execution_count": 7,
      "outputs": [
        {
          "output_type": "stream",
          "name": "stdout",
          "text": "Enter a string: home\ne\nem\nemo\nemoh\nOriginal:  home\nReversed:  emoh\n"
        }
      ]
    },
    {
      "metadata": {
        "trusted": true
      },
      "cell_type": "code",
      "source": "# Find whether a string is a palindrome or not\n# a palindrome string is one the original and the reversed string is the same say \"ooo\"\n\noriginal = input('Enter a string: ')\n\nindex = len(original) - 1\nreversed_string = ''\n\nwhile index >= 0:\n    reversed_string += original[index]\n    \n    index = index - 1\n    \nif original == reversed_string:\n    print('This string is a palindrome: ', original)\nelse:\n    print('This string is NOT a palindrome: ', original)",
      "execution_count": 8,
      "outputs": [
        {
          "output_type": "stream",
          "name": "stdout",
          "text": "Enter a string: mom\nThis string is a palindrome:  mom\n"
        }
      ]
    },
    {
      "metadata": {
        "trusted": true
      },
      "cell_type": "code",
      "source": "a_list = [2, 5, 7, 8, 2, 6, 9, 0, 3]",
      "execution_count": 9,
      "outputs": []
    },
    {
      "metadata": {
        "trusted": true
      },
      "cell_type": "code",
      "source": "# Find the length of a list without using the len() operator\n\ncount = 0\nfor element in a_list:\n    count = count + 1 # here we use the count. For every element in a_list assign a value 1 then add\n\ncount # we pull this from the for block so that we can print the total count  ",
      "execution_count": 10,
      "outputs": [
        {
          "output_type": "execute_result",
          "execution_count": 10,
          "data": {
            "text/plain": "9"
          },
          "metadata": {}
        }
      ]
    },
    {
      "metadata": {
        "trusted": true
      },
      "cell_type": "code",
      "source": "# Find the maximum element in a list\n\nmaximum = a_list[0] # we assume that the maximum list is the first item of the list\n\nfor element in a_list:\n    if element > maximum:# if an element in the a_list is greater than our initiliazed maximum\n        maximum = element # then assign that eememnt to our variable maximum. keep looping till you find the maximum of all\n        # run this to understand the process print (maximum)\n        \nmaximum        ",
      "execution_count": 11,
      "outputs": [
        {
          "output_type": "execute_result",
          "execution_count": 11,
          "data": {
            "text/plain": "9"
          },
          "metadata": {}
        }
      ]
    },
    {
      "metadata": {
        "trusted": true
      },
      "cell_type": "code",
      "source": "# Find the minimum element in a list\n\nminimum = a_list[0]\n\nfor element in a_list:\n    if element < minimum:#if an element in the a_list is less than our initiliazed minimum\n        minimum = element # then assign that eememnt to our variable minimum. keep looping till you find the minimum of all\n        # run this to understand the process print (minimum)\n        \nminimum",
      "execution_count": 12,
      "outputs": [
        {
          "output_type": "execute_result",
          "execution_count": 12,
          "data": {
            "text/plain": "0"
          },
          "metadata": {}
        }
      ]
    },
    {
      "metadata": {
        "trusted": true
      },
      "cell_type": "code",
      "source": "# Find the average of all the numbers in the list without using sum() or len()\n# we utilize the count ans the total\n# we start by initializing both the total and count\ncount = 0\ntotal = 0\nfor element in a_list:\n    count += 1\n    total += element\n\nprint('Average: ', total/count)",
      "execution_count": 13,
      "outputs": [
        {
          "output_type": "stream",
          "text": "Average:  4.666666666666667\n",
          "name": "stdout"
        }
      ]
    },
    {
      "metadata": {
        "trusted": true
      },
      "cell_type": "code",
      "source": "sum(a_list) / len(a_list)",
      "execution_count": 14,
      "outputs": [
        {
          "output_type": "execute_result",
          "execution_count": 14,
          "data": {
            "text/plain": "4.666666666666667"
          },
          "metadata": {}
        }
      ]
    },
    {
      "metadata": {
        "trusted": true
      },
      "cell_type": "code",
      "source": "# For a number input find whether it is divisible by 5, divisible by 7 or both. Test with 10, 21 and then 35\n# this code is not right\n# aloop executes in order if you enter say a value 35 it returns The number 35 is divisible by 5 which is partly true\n\nnum = int(input('Enter an integer: '))\n\nif num % 5 == 0:\n    print('The number %s is divisible by 5' % num)\nelif num % 7 == 0:\n    print('The number %s is divisible by 7' % num)\nelif num % 5 == 0 and num % 7 == 0:\n    print('The number %s is divisible by both 5 and 7' % num)",
      "execution_count": 15,
      "outputs": [
        {
          "output_type": "stream",
          "name": "stdout",
          "text": "Enter an integer: 35\nThe number 35 is divisible by 5\n"
        }
      ]
    },
    {
      "metadata": {
        "trusted": true
      },
      "cell_type": "code",
      "source": "# Need to check for divisible by 5 and 7 first and then individually\n#Here is how we rectify the code\n\nnum = int(input('Enter an integer: '))\n\nif num % 5 == 0 and num % 7 == 0:\n    print('The number %s is divisible by both 5 and 7' % num)\nelif num % 7 == 0:\n    print('The number %s is divisible by 7' % num)\nelif num % 5 == 0:\n    print('The number %s is divisible by 5' % num)",
      "execution_count": 16,
      "outputs": [
        {
          "output_type": "stream",
          "name": "stdout",
          "text": "Enter an integer: 70\nThe number 70 is divisible by both 5 and 7\n"
        }
      ]
    },
    {
      "metadata": {
        "trusted": true
      },
      "cell_type": "code",
      "source": "# Find the number of times the letter \"e\" occurs in the input sentence \n\nsentence1 = input('Enter a sentence: ')\nsentence = sentence1.lower() # to ensure each sentence entered is in small letters\n\ncount_e = 0 # because we are looking for the count of e we initialize it at 0\n\nfor character in sentence:\n    if character == 'e':\n        count_e += 1\n\nprint('Total number of the letter \"e\": ', count_e)",
      "execution_count": 17,
      "outputs": [
        {
          "output_type": "stream",
          "name": "stdout",
          "text": "Enter a sentence: because we are looking for the count of e we initilaize it at 0\nTotal number of the letter \"e\":  8\n"
        }
      ]
    },
    {
      "metadata": {
        "trusted": true
      },
      "cell_type": "code",
      "source": "math_scores = {\n    'Judy': 94,\n    'Niti': 88,\n    'Athira': 97,\n    'Anu': 93,\n    'Ram': 55\n}",
      "execution_count": 18,
      "outputs": []
    },
    {
      "metadata": {
        "trusted": true
      },
      "cell_type": "code",
      "source": "# In a dictionary print the names of all students who scored over 90 in math\n\nfor name, score in math_scores.items(): # name represent the key and score the value of the key\n    if score > 90:\n        print(name)# we print name because we only need the name of that person",
      "execution_count": 19,
      "outputs": [
        {
          "output_type": "stream",
          "text": "Judy\nAthira\nAnu\n",
          "name": "stdout"
        }
      ]
    },
    {
      "metadata": {
        "trusted": true
      },
      "cell_type": "code",
      "source": "# If any student has scored between 50 and 60 increment their marks by 10\n\nfor name, score in math_scores.items():\n    if score > 50 and score < 60: # specify the range\n        math_scores[name] += 10 # deduces the math score of the students with scores within that range and adds 10 to them\n        \nmath_scores        ",
      "execution_count": 20,
      "outputs": [
        {
          "output_type": "execute_result",
          "execution_count": 20,
          "data": {
            "text/plain": "{'Anu': 93, 'Athira': 97, 'Judy': 94, 'Niti': 88, 'Ram': 65}"
          },
          "metadata": {}
        }
      ]
    },
    {
      "metadata": {
        "trusted": true
      },
      "cell_type": "code",
      "source": "# Count the number of vowels in a sentence\n\nsentence2 = input('Enter a sentence: ')\nsentence = sentence2.lower() #change the input to lower case to enable you find the right count\n\nvowels = ['a', 'e', 'i', 'o', 'u']# specifies the vowels \n\ncount_vowels = 0\n\nfor ch in sentence:\n    if ch in vowels: # says if that specific character is in vowels \n        count_vowels += 1#then count it\n        \nprint('Number of vowels: ', count_vowels)        ",
      "execution_count": 21,
      "outputs": [
        {
          "output_type": "stream",
          "name": "stdout",
          "text": "Enter a sentence: because we are looking for the count of e we initilaize it at 0\nNumber of vowels:  25\n"
        }
      ]
    },
    {
      "metadata": {
        "trusted": true
      },
      "cell_type": "code",
      "source": "# Accept a comma separated list of names from the user on the console input and create a \n# dictionary and initialize all their scores to 0\n\nusers = input(\"Enter users: \")\n\n\nuser_list = users.split(',') # splits the user input on the delimiter comma\n\nscore_dict = {} # because we need a dictionary we intialize an empty dictionary\n\nfor user in user_list:\n    score_dict[user.strip()] = 0 # strip removes all spaces after the key entered either after or before that key\n\nscore_dict    ",
      "execution_count": 22,
      "outputs": [
        {
          "output_type": "stream",
          "name": "stdout",
          "text": "Enter users: kenya, uganda,tanzania\n"
        },
        {
          "output_type": "execute_result",
          "execution_count": 22,
          "data": {
            "text/plain": "{'kenya': 0, 'tanzania': 0, 'uganda': 0}"
          },
          "metadata": {}
        }
      ]
    },
    {
      "metadata": {
        "trusted": true
      },
      "cell_type": "code",
      "source": "# Accept names from the user using console output till the user types 'exit'. Store all the users in a list\n\nuser_list = [] # because we need a list we initialize a list to 0\n\nwhile True:\n    \n    user = input('Enter user: ') # this user input is within the loop so it keeps asking the user for a name over and over again\n    \n    if user == 'exit': # until they enter exit remember python is case sensitive\n        break\n    \n    user_list.append(user) # append all entries in our empty list   \n\nuser_list  # print a list of all entered values before exit",
      "execution_count": 23,
      "outputs": [
        {
          "output_type": "stream",
          "name": "stdout",
          "text": "Enter user: Mercy\nEnter user: Mueni\nEnter user: Mwangi\nEnter user: Exit\nEnter user: exit\n"
        },
        {
          "output_type": "execute_result",
          "execution_count": 23,
          "data": {
            "text/plain": "['Mercy', 'Mueni', 'Mwangi', 'Exit']"
          },
          "metadata": {}
        }
      ]
    },
    {
      "metadata": {
        "trusted": true
      },
      "cell_type": "code",
      "source": "",
      "execution_count": null,
      "outputs": []
    }
  ],
  "metadata": {
    "kernelspec": {
      "name": "python3",
      "display_name": "Python 3",
      "language": "python"
    },
    "language_info": {
      "mimetype": "text/x-python",
      "nbconvert_exporter": "python",
      "name": "python",
      "file_extension": ".py",
      "version": "3.5.4",
      "pygments_lexer": "ipython3",
      "codemirror_mode": {
        "version": 3,
        "name": "ipython"
      }
    }
  },
  "nbformat": 4,
  "nbformat_minor": 2
}