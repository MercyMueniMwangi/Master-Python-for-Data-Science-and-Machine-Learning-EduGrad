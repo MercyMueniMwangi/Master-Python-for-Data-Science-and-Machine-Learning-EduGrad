{
  "cells": [
    {
      "metadata": {},
      "cell_type": "markdown",
      "source": "# While Loops\nUnlike for loops where the number of iterations are known in while loops the number of iterations are not known.\nWe only know the conditions under which we have to stop the loop. The looping continues to loop as long as the condition is true. This means in a while loop we should have a condition that evaluates false at some point.  If not we will get into a infinite looping situation."
    },
    {
      "metadata": {
        "trusted": true
      },
      "cell_type": "code",
      "source": "count = 6\n\nwhile count < 5: \n    print(count) # this will not evaluate because the condition is false",
      "execution_count": 1,
      "outputs": []
    },
    {
      "metadata": {
        "trusted": true
      },
      "cell_type": "code",
      "source": "# This will cause an infinite loop, press the stop button on the menu bar\ncount = 4\n\nwhile count < 5:\n    print(count) # since 4 is less that 5 it will return 4 but since our condition does not evaluate fals at some point\n                 # this code runs to infinite so we stop the code by clickins stop in the jupyter notebbok menu\n                 # you get this error after stopping KeyboardInterrupt",
      "execution_count": null,
      "outputs": []
    },
    {
      "metadata": {
        "trusted": true
      },
      "cell_type": "code",
      "source": "count = 4\n\nwhile count < 5:\n    print(count) # this evaluates count as 4 first then count as 10 and thats why it stops at 4\n                 # count now is 10 and this is not true as compared to our condition\n    \n    count = 10 # because this is within the whilw block it becomes our stopping condition since count is 10 and greater than 5",
      "execution_count": 2,
      "outputs": [
        {
          "output_type": "stream",
          "text": "4\n",
          "name": "stdout"
        }
      ]
    },
    {
      "metadata": {
        "trusted": true
      },
      "cell_type": "code",
      "source": "# here we initialize count at 0\n# this code returns count +1 until the condition count<5 is false\ncount = 0\n\nwhile count < 5:\n    print(count)\n    count = count + 1",
      "execution_count": 3,
      "outputs": [
        {
          "output_type": "stream",
          "text": "0\n1\n2\n3\n4\n",
          "name": "stdout"
        }
      ]
    },
    {
      "metadata": {
        "trusted": true
      },
      "cell_type": "code",
      "source": "# this code returns count +1 until the condition count<5 is false\ncount = 0\n\nwhile count < 5:\n    print(count)\n    count = count + 2",
      "execution_count": 4,
      "outputs": [
        {
          "output_type": "stream",
          "text": "0\n2\n4\n",
          "name": "stdout"
        }
      ]
    },
    {
      "metadata": {},
      "cell_type": "markdown",
      "source": "### While loops and lists\n\n####  Note:\n    If we try to access values outside/greater than the length of the list we get and index error"
    },
    {
      "metadata": {
        "trusted": true
      },
      "cell_type": "code",
      "source": "tech_companies = ['Google', 'Apple', 'Facebook', 'Uber', 'Intel']",
      "execution_count": 5,
      "outputs": []
    },
    {
      "metadata": {
        "trusted": true
      },
      "cell_type": "code",
      "source": "list_len = len(tech_companies)\n\nlist_len",
      "execution_count": 6,
      "outputs": [
        {
          "output_type": "execute_result",
          "execution_count": 6,
          "data": {
            "text/plain": "5"
          },
          "metadata": {}
        }
      ]
    },
    {
      "metadata": {
        "trusted": true
      },
      "cell_type": "code",
      "source": "count = 0\n\nwhile count < list_len: # count should be less than the length os the list\n    print(tech_companies[count]) #this also extracts the elements of the list\n    \n    count = count + 1",
      "execution_count": 7,
      "outputs": [
        {
          "output_type": "stream",
          "text": "Google\nApple\nFacebook\nUber\nIntel\n",
          "name": "stdout"
        }
      ]
    },
    {
      "metadata": {
        "trusted": true
      },
      "cell_type": "code",
      "source": "count = 0\n\nwhile count < len(tech_companies):\n    print(tech_companies[count])\n    \n    count = count + 1",
      "execution_count": 8,
      "outputs": [
        {
          "output_type": "stream",
          "text": "Google\nApple\nFacebook\nUber\nIntel\n",
          "name": "stdout"
        }
      ]
    },
    {
      "metadata": {
        "trusted": true
      },
      "cell_type": "code",
      "source": "count = 0\n\nwhile count < 10: # 10 is greater than the length of our list this means at the 6th iteration we will get an index error \n                  # \"list index out of range\"\n    print(tech_companies[count])\n    \n    count = count + 1",
      "execution_count": 9,
      "outputs": [
        {
          "output_type": "stream",
          "text": "Google\nApple\nFacebook\nUber\nIntel\n",
          "name": "stdout"
        },
        {
          "output_type": "error",
          "ename": "IndexError",
          "evalue": "list index out of range",
          "traceback": [
            "\u001b[0;31m---------------------------------------------------------------------------\u001b[0m",
            "\u001b[0;31mIndexError\u001b[0m                                Traceback (most recent call last)",
            "\u001b[0;32m<ipython-input-9-43d2bc9ecc66>\u001b[0m in \u001b[0;36m<module>\u001b[0;34m()\u001b[0m\n\u001b[1;32m      3\u001b[0m \u001b[0;32mwhile\u001b[0m \u001b[0mcount\u001b[0m \u001b[0;34m<\u001b[0m \u001b[0;36m10\u001b[0m\u001b[0;34m:\u001b[0m \u001b[0;31m# 10 is greater than the length of our list this means at the 6th iteration we will get an index error\u001b[0m\u001b[0;34m\u001b[0m\u001b[0m\n\u001b[1;32m      4\u001b[0m                   \u001b[0;31m# \"list index out of range\"\u001b[0m\u001b[0;34m\u001b[0m\u001b[0;34m\u001b[0m\u001b[0m\n\u001b[0;32m----> 5\u001b[0;31m     \u001b[0mprint\u001b[0m\u001b[0;34m(\u001b[0m\u001b[0mtech_companies\u001b[0m\u001b[0;34m[\u001b[0m\u001b[0mcount\u001b[0m\u001b[0;34m]\u001b[0m\u001b[0;34m)\u001b[0m\u001b[0;34m\u001b[0m\u001b[0m\n\u001b[0m\u001b[1;32m      6\u001b[0m \u001b[0;34m\u001b[0m\u001b[0m\n\u001b[1;32m      7\u001b[0m     \u001b[0mcount\u001b[0m \u001b[0;34m=\u001b[0m \u001b[0mcount\u001b[0m \u001b[0;34m+\u001b[0m \u001b[0;36m1\u001b[0m\u001b[0;34m\u001b[0m\u001b[0m\n",
            "\u001b[0;31mIndexError\u001b[0m: list index out of range"
          ]
        }
      ]
    },
    {
      "metadata": {
        "trusted": true
      },
      "cell_type": "code",
      "source": "count = 7\n\nwhile count >= 0:\n    print(count)\n    \n    count = count - 3 #this performs  a decrement count. that is for a value greater then 0 starting from 7 deduct 3\n                      # we start at 7 in the first iteration\n                      # then 7-3 at the second iteration to get 4\n                      # then 4-3 for the third iteration to get 1\n                      # but because at 1-3 the condition count>=0 is false the loop stops",
      "execution_count": 10,
      "outputs": [
        {
          "output_type": "stream",
          "text": "7\n4\n1\n",
          "name": "stdout"
        }
      ]
    },
    {
      "metadata": {
        "trusted": true
      },
      "cell_type": "code",
      "source": "inc_count = 0\ndec_count = 10\n\nwhile inc_count > 5 or dec_count > 5: # this means our condition is only true at inc_count > 5  or dec_count > 5\n    print(inc_count, dec_count) # this prints as long as one of the two conditions is true\n    \n    inc_count = inc_count + 1\n    dec_count = dec_count - 2\n\nprint('Final count values ', inc_count, dec_count)    ",
      "execution_count": 11,
      "outputs": [
        {
          "output_type": "stream",
          "text": "0 10\n1 8\n2 6\nFinal count values  3 4\n",
          "name": "stdout"
        }
      ]
    },
    {
      "metadata": {
        "trusted": true
      },
      "cell_type": "code",
      "source": "num = 8\n\nwhile num < 10: # if num entered is greater than 10 the loop stops\n    num = int(input('Enter a number: '))# asks a user input which we convert from a string to an integer\n                                        # this loops keeps prompting the user for input until you enter a number greater than 10\n    print('You entered: ', num)\n    \nprint('\\nFinal number which caused us to break out of the loop', num) #this gives us the number that stopped the loop",
      "execution_count": 13,
      "outputs": [
        {
          "output_type": "stream",
          "name": "stdout",
          "text": "Enter a number: 2\nYou entered:  2\nEnter a number: 5\nYou entered:  5\nEnter a number: 2\nYou entered:  2\nEnter a number: 4\nYou entered:  4\nEnter a number: 14\nYou entered:  14\n\nFinal number which caused us to break out of the loop 14\n"
        }
      ]
    },
    {
      "metadata": {
        "trusted": true
      },
      "cell_type": "code",
      "source": "num = 8\n\nwhile True: # when using while true you should always include a break\n    num = int(input('Enter a number: '))\n    \n    print('You entered: ', num)\n    if num % 5 == 0: # until this condition is false the loop will not stop asking for a user input\n        break # always include this in your code\n    \nprint('\\nFinal number which caused us to break out of the loop', num)    ",
      "execution_count": 14,
      "outputs": [
        {
          "output_type": "stream",
          "name": "stdout",
          "text": "Enter a number: 8\nYou entered:  8\nEnter a number: 2\nYou entered:  2\nEnter a number: 4\nYou entered:  4\nEnter a number: 20\nYou entered:  20\n\nFinal number which caused us to break out of the loop 20\n"
        }
      ]
    },
    {
      "metadata": {
        "trusted": true
      },
      "cell_type": "code",
      "source": "num = 8\n\nwhile True:\n    num = int(input('Enter a number: '))\n    \n    if num % 2 == 0: # until this condition is false the loop will not stop asking for a user input\n                     # as long as the number you enter is divisible by 2 the loop continues even if it is divisible by 5 too\n        continue\n    \n    print('\\nYou entered: ', num) # if the number is divisible by 2 this is not executed\n    \n    if num % 5 == 0: # this becomes our breaking condition\n        break\n    \nprint('\\nFinal number which caused us to break out of the loop', num)    ",
      "execution_count": 17,
      "outputs": [
        {
          "output_type": "stream",
          "name": "stdout",
          "text": "Enter a number: 2\nEnter a number: 0\nEnter a number: 10\nEnter a number: 1\n\nYou entered:  1\nEnter a number: 3\n\nYou entered:  3\nEnter a number: 13\n\nYou entered:  13\nEnter a number: 15\n\nYou entered:  15\n\nFinal number which caused us to break out of the loop 15\n"
        }
      ]
    },
    {
      "metadata": {
        "trusted": true
      },
      "cell_type": "code",
      "source": "",
      "execution_count": null,
      "outputs": []
    },
    {
      "metadata": {
        "trusted": true
      },
      "cell_type": "code",
      "source": "",
      "execution_count": null,
      "outputs": []
    }
  ],
  "metadata": {
    "kernelspec": {
      "name": "python3",
      "display_name": "Python 3",
      "language": "python"
    }
  },
  "nbformat": 4,
  "nbformat_minor": 2
}