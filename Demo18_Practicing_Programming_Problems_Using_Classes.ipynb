{
  "cells": [
    {
      "metadata": {
        "trusted": true
      },
      "cell_type": "code",
      "source": "# Create a class for a student which contains their name, overall score, the clubs they belong to\n# and whether the student is an honors student or not. Write a method to update the values of all\n# variables\n\nclass Student:\n    \n    def __init__(self, name, overall_score):\n        self.__name = name\n        self.__overall_score = overall_score\n        #set()indicates any iterable sequence like list, tuple or dictionary\n        self.__clubs = set()\n        self.__is_honors_student = False\n        \n    def change_name(self, name):\n        self.__name = name\n        \n    def change_score(self, overall_score):\n        self.__overall_score = overall_score\n        \n    def add_club(self, club):\n        self.__clubs.add(club)\n    \n    def change_is_honors_student(self, is_honors_student):\n        self.__is_honors_student = is_honors_student\n        \n    def print_all(self):\n        print(self.__name, self.__overall_score, self.__clubs, self.__is_honors_student)",
      "execution_count": 1,
      "outputs": []
    },
    {
      "metadata": {
        "trusted": true
      },
      "cell_type": "code",
      "source": "s = Student('Jai', 87)",
      "execution_count": 2,
      "outputs": []
    },
    {
      "metadata": {
        "trusted": true
      },
      "cell_type": "code",
      "source": "s.add_club('Yoga')",
      "execution_count": 3,
      "outputs": []
    },
    {
      "metadata": {
        "trusted": true
      },
      "cell_type": "code",
      "source": "s.print_all()",
      "execution_count": 4,
      "outputs": [
        {
          "output_type": "stream",
          "text": "Jai 87 {'Yoga'} False\n",
          "name": "stdout"
        }
      ]
    },
    {
      "metadata": {
        "trusted": true
      },
      "cell_type": "code",
      "source": "s.add_club('yoga')",
      "execution_count": 5,
      "outputs": []
    },
    {
      "metadata": {
        "trusted": true
      },
      "cell_type": "code",
      "source": "s.print_all()",
      "execution_count": 6,
      "outputs": [
        {
          "output_type": "stream",
          "text": "Jai 87 {'Yoga', 'yoga'} False\n",
          "name": "stdout"
        }
      ]
    },
    {
      "metadata": {
        "trusted": true
      },
      "cell_type": "code",
      "source": "s.add_club('yoga')",
      "execution_count": 7,
      "outputs": []
    },
    {
      "metadata": {
        "trusted": true
      },
      "cell_type": "code",
      "source": "s.print_all()",
      "execution_count": 8,
      "outputs": [
        {
          "output_type": "stream",
          "text": "Jai 87 {'Yoga', 'yoga'} False\n",
          "name": "stdout"
        }
      ]
    },
    {
      "metadata": {
        "trusted": true
      },
      "cell_type": "code",
      "source": "# You have student details in a dictionary format i.e a list of dictionaries. Write a method to convert these \n# to instances of the student class. Return a list of instances from a function\n\nstudent_details_list = [\n    {'name': 'Sima', 'overall_score': 89, 'clubs': ['yoga', 'chess']},\n    {'name': 'Chandni', 'overall_score': 44, 'clubs': ['yoga'], 'is_honors_student': True},\n    {'name': 'Harish', 'overall_score': 56, 'clubs': ['baddy', 'chess']},\n    {'name': 'Ajay', 'overall_score': 99, 'is_honors_student': True}\n]",
      "execution_count": 9,
      "outputs": []
    },
    {
      "metadata": {
        "trusted": true
      },
      "cell_type": "code",
      "source": "def get_students(student_details_list):\n    students_list = []\n\n    for student_details in student_details_list:\n        \n        if 'name' not in student_details or 'overall_score' not in student_details:\n            continue\n            \n        s = Student(student_details['name'], student_details['overall_score'])\n        \n        if 'clubs' in student_details:\n            for club in student_details['clubs']:\n                s.add_club(club)\n\n        if 'is_honors_student' in student_details:\n            s.change_is_honors_student(student_details['is_honors_student'])\n    \n        students_list.append(s)\n        \n    return students_list    ",
      "execution_count": 10,
      "outputs": []
    },
    {
      "metadata": {
        "trusted": true
      },
      "cell_type": "code",
      "source": "students = get_students(student_details_list)",
      "execution_count": 11,
      "outputs": []
    },
    {
      "metadata": {
        "trusted": true
      },
      "cell_type": "code",
      "source": "students",
      "execution_count": 12,
      "outputs": [
        {
          "output_type": "execute_result",
          "execution_count": 12,
          "data": {
            "text/plain": "[<__main__.Student at 0x7fd8c7eff160>,\n <__main__.Student at 0x7fd8c7effa20>,\n <__main__.Student at 0x7fd8c7effa58>,\n <__main__.Student at 0x7fd8c7effa90>]"
          },
          "metadata": {}
        }
      ]
    },
    {
      "metadata": {
        "trusted": true
      },
      "cell_type": "code",
      "source": "for student in students:\n    student.print_all()",
      "execution_count": 13,
      "outputs": [
        {
          "output_type": "stream",
          "text": "Sima 89 {'chess', 'yoga'} False\nChandni 44 {'yoga'} True\nHarish 56 {'chess', 'baddy'} False\nAjay 99 set() True\n",
          "name": "stdout"
        }
      ]
    },
    {
      "metadata": {
        "trusted": true
      },
      "cell_type": "code",
      "source": "# Set up a Circle class which takes in a radius and has methods which calculate the area and perimeter\n# for the circle\n\nimport math\n\nclass Circle:\n    \n    def __init__(self, radius):\n        self.__radius = radius\n    \n    def get_area(self):\n        return math.pi * self.__radius * self.__radius\n    \n    def get_perimeter(self):\n        return 2 * math.pi * self.__radius\n        ",
      "execution_count": 14,
      "outputs": []
    },
    {
      "metadata": {
        "trusted": true
      },
      "cell_type": "code",
      "source": "c = Circle(12)",
      "execution_count": 15,
      "outputs": []
    },
    {
      "metadata": {
        "trusted": true
      },
      "cell_type": "code",
      "source": "c.get_area(), c.get_perimeter()",
      "execution_count": 16,
      "outputs": [
        {
          "output_type": "execute_result",
          "execution_count": 16,
          "data": {
            "text/plain": "(452.3893421169302, 75.39822368615503)"
          },
          "metadata": {}
        }
      ]
    }
  ],
  "metadata": {
    "kernelspec": {
      "name": "python3",
      "display_name": "Python 3",
      "language": "python"
    },
    "language_info": {
      "mimetype": "text/x-python",
      "nbconvert_exporter": "python",
      "name": "python",
      "pygments_lexer": "ipython3",
      "version": "3.5.4",
      "file_extension": ".py",
      "codemirror_mode": {
        "version": 3,
        "name": "ipython"
      }
    }
  },
  "nbformat": 4,
  "nbformat_minor": 2
}