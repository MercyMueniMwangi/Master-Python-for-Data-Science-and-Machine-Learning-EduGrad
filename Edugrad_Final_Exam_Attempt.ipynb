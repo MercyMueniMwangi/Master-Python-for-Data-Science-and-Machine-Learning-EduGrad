{
  "cells": [
    {
      "metadata": {
        "collapsed": true
      },
      "cell_type": "markdown",
      "source": "# Questions 1\nSwap the case of the string that comes as an input and return the string while making sure that the first letter of the string stays Uppercase.\nExample -\n\nInput - \"PyThON\"\n\nOutput - \"PYtHon\""
    },
    {
      "metadata": {
        "trusted": true
      },
      "cell_type": "code",
      "source": "def main(i):\n    swap = i[0]+i[1: ].swapcase()\n    return swap\nmain(\"PyThON\")",
      "execution_count": 1,
      "outputs": [
        {
          "output_type": "execute_result",
          "execution_count": 1,
          "data": {
            "text/plain": "'PYtHon'"
          },
          "metadata": {}
        }
      ]
    },
    {
      "metadata": {},
      "cell_type": "markdown",
      "source": "# Question 2\nYou will get a list in input consisting of only tuple elements. Each tuple will have 2 numeric elements. You have to return the maximum difference between the tuple pairs\n\nExample -\n\nInput - [(10,12),(8,15),(20,8),(2,-10)]\n\nOutput - 12\n\nReason - The difference between all the tuple pairs are 2,7,12,12 respectively and max of them is 12."
    },
    {
      "metadata": {
        "trusted": true
      },
      "cell_type": "code",
      "source": "def main(i):\n    List = []\n    for element in i:\n        if element[1] > element[0]:\n            sub = element[1]-element[0]       \n        else:\n            sub = element[0]-element[1]\n        List.append(sub)\n    maximum = List[0]\n    for num in List:       \n        if num > maximum:\n            maximum = num\n    return maximum\n\nmain([(10,12),(8,15),(20,8),(2,-10)])",
      "execution_count": 2,
      "outputs": [
        {
          "output_type": "execute_result",
          "execution_count": 2,
          "data": {
            "text/plain": "12"
          },
          "metadata": {}
        }
      ]
    },
    {
      "metadata": {},
      "cell_type": "markdown",
      "source": "# Question 3\nGiven an array of elements N return the count of odd and even no.s using lambda function\n\nExample -\n\nInput - [2,3,4,5,6,7,8]\n\nOutput -(3,4)\n\nExplanation - There are 3 odd no.s and 4 even no.s in the list."
    },
    {
      "metadata": {
        "trusted": true
      },
      "cell_type": "code",
      "source": "def main(i):\n    count_even=0\n    count_odd=0\n    for num in i:\n        if num % 2 == 0:\n            count_even+=1\n        elif num % 2 != 0:\n            count_odd+=1\n    return (count_odd ,count_even)\nmain([2,3,4,5,6,7,8])",
      "execution_count": 3,
      "outputs": [
        {
          "output_type": "execute_result",
          "execution_count": 3,
          "data": {
            "text/plain": "(3, 4)"
          },
          "metadata": {}
        }
      ]
    },
    {
      "metadata": {},
      "cell_type": "markdown",
      "source": "# Question 4\nRead the file 'test.csv' and change the Grade of Rohit's grade to A and save the file to 'test.csv'\n\nExample -\n\nRead -  Name,Class,Subject,Grade\n        Ajay,   10, English,A\n        Rohit,  9,  English,B\n        Chaman, 10, English,A\n        Rudra,  9,  English,C\n        Rajesh, 10, English,B\n\nWrite - Name,Class,Subject,Grade\n        Ajay,   10, English,A\n        Rohit,  9,  English,A\n        Chaman, 10, English,A\n        Rudra,  9,  English,C\n        Rajesh, 10, English,B\n\nExplanation read the csv file and then store the data into local variable and again write that data using writerow function of csv module (Note: Don't forget to use \nnewlin='' when opening the csv file in write mode)"
    },
    {
      "metadata": {
        "trusted": true
      },
      "cell_type": "code",
      "source": "data= [[\"Name\",\"Class\",\"Subject\",\"Grade\"],\n       [\"Ajay\",   \"10\", \"English\",\"A\"],\n       [\"Rohit\",  \"9\",  \"English\",\"B\"],\n       [\"Chaman\", \"10\", \"English\",\"A\"],\n       [\"Rudra\",  \"9\",  \"English\",\"C\"],\n       [\"Rajesh\", \"10\", \"English\",\"B\"]]\ndef main(filename,mode,i):\n    import csv\n    with open(filename, mode, newline='') as file:\n        writer = csv.writer(file, delimiter=',')\n        writer.writerows(i)\n    \n    r = csv.reader(open(filename)) # Here your csv file\n    lines = list(r)\n    lines[2][3] ='A'\n    \n    with open(filename, mode, newline='') as file:\n        writer = csv.writer(file, delimiter=',')\n        writer.writerows(lines)\n\n    with open(filename, 'r') as file:\n        reader = csv.reader(file)\n        for row in reader:\n            print(row)\nmain(\"test.csv\",\"w\",data)",
      "execution_count": 4,
      "outputs": [
        {
          "output_type": "stream",
          "text": "['Name', 'Class', 'Subject', 'Grade']\n['Ajay', '10', 'English', 'A']\n['Rohit', '9', 'English', 'A']\n['Chaman', '10', 'English', 'A']\n['Rudra', '9', 'English', 'C']\n['Rajesh', '10', 'English', 'B']\n",
          "name": "stdout"
        }
      ]
    },
    {
      "metadata": {
        "trusted": true
      },
      "cell_type": "code",
      "source": "# if you have the file test.csv on your computer or directorate you can use this function\ndef main():    \n    import csv\n    r = csv.reader(open(\"test.csv\",\"r\")) # Here your csv file\n    lines = list(r)\n    lines[2][3] ='A'\n    \n    with open(\"test.csv\", \"w\", newline='') as file:\n        writer = csv.writer(file, delimiter=',')\n        writer.writerows(lines)",
      "execution_count": 5,
      "outputs": []
    },
    {
      "metadata": {},
      "cell_type": "markdown",
      "source": "# Question 5\nGive 2 no.s A and B return (A+B)/(A-B). In case of an exception return 0\n\nExample -\n\nInput - 7,2\n\nOutput - 1.8\n\nexplanation - 7+2/7-2 => 1.8"
    },
    {
      "metadata": {
        "trusted": true
      },
      "cell_type": "code",
      "source": "def main(i,j):\n    try:\n        result = ((i+j) / (i-j))\n        return result\n    except:\n        return 0\nmain(7,2)",
      "execution_count": 6,
      "outputs": [
        {
          "output_type": "execute_result",
          "execution_count": 6,
          "data": {
            "text/plain": "1.8"
          },
          "metadata": {}
        }
      ]
    },
    {
      "metadata": {},
      "cell_type": "markdown",
      "source": "# Question 6\nGiven an string input find all the no.s in the string using regular expression. If there are more than one no. present return a list containing all the no.s\n\nExample -\n\nInput - \"There are 12 dogs and 7 cats in the house.\"\n\nOutput - ['12','7']\n\n"
    },
    {
      "metadata": {
        "trusted": true
      },
      "cell_type": "code",
      "source": "def main(i):\n    import re\n    pattern = re.compile('[0-9]+')\n    return pattern.findall(i)    \nmain(\"There are 12 dogs and 7 cats in the house.\")",
      "execution_count": 7,
      "outputs": [
        {
          "output_type": "execute_result",
          "execution_count": 7,
          "data": {
            "text/plain": "['12', '7']"
          },
          "metadata": {}
        }
      ]
    },
    {
      "metadata": {},
      "cell_type": "markdown",
      "source": "# Question 7\nCreate a 2-D list from the given input. You will get 2 inputs 1st parameter is the no. of elements in the list and the 2nd parameter is the no. of lists.\n the elements inside the list should start from 0 and end at n-1.\n\n\n\nExample -\n\nInput - 8 3\n\nOutput - [\n    [0,1,2,3,4,5,6,7],\n    [0,1,2,3,4,5,6,7],\n    [0,1,2,3,4,5,6,7],\n    ]"
    },
    {
      "metadata": {
        "trusted": true
      },
      "cell_type": "code",
      "source": "def main(i,j):\n    List=[]\n    List1=[]\n    for num in range(i):\n        List.append(num)\n    while j!=0:\n        j-=1\n        List1.append(List)\n    return List1\nmain(8,3)",
      "execution_count": 8,
      "outputs": [
        {
          "output_type": "execute_result",
          "execution_count": 8,
          "data": {
            "text/plain": "[[0, 1, 2, 3, 4, 5, 6, 7], [0, 1, 2, 3, 4, 5, 6, 7], [0, 1, 2, 3, 4, 5, 6, 7]]"
          },
          "metadata": {}
        }
      ]
    },
    {
      "metadata": {},
      "cell_type": "markdown",
      "source": "# Question 8\nYou will get a number in input you have to get all the prime no.s till that no\n\nExample -\n\nInput - 10\n\nOutput -[2,3,5,7]\n\nExplanation - First element of input list is 4 so multiply the whole list by 4 and return the output list."
    },
    {
      "metadata": {
        "trusted": true
      },
      "cell_type": "code",
      "source": "def main(i):\n    primes = []\n    for possiblePrime in range(2,i): \n        isPrime = True\n        for num in range(2, possiblePrime):\n            if possiblePrime % num == 0:\n                isPrime = False\n      \n        if isPrime:\n            primes.append(possiblePrime)\n    return primes\nmain(10)",
      "execution_count": 9,
      "outputs": [
        {
          "output_type": "execute_result",
          "execution_count": 9,
          "data": {
            "text/plain": "[2, 3, 5, 7]"
          },
          "metadata": {}
        }
      ]
    },
    {
      "metadata": {
        "trusted": true
      },
      "cell_type": "code",
      "source": "",
      "execution_count": null,
      "outputs": []
    }
  ],
  "metadata": {
    "kernelspec": {
      "name": "python36",
      "display_name": "Python 3.6",
      "language": "python"
    },
    "language_info": {
      "mimetype": "text/x-python",
      "nbconvert_exporter": "python",
      "name": "python",
      "pygments_lexer": "ipython3",
      "version": "3.6.6",
      "file_extension": ".py",
      "codemirror_mode": {
        "version": 3,
        "name": "ipython"
      }
    }
  },
  "nbformat": 4,
  "nbformat_minor": 2
}