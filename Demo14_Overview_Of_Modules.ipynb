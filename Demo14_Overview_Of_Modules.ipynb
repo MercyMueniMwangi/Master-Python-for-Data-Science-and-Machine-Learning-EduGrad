{
  "cells": [
    {
      "metadata": {},
      "cell_type": "markdown",
      "source": "# Modules\nThey are python source file which exposesuseful functions and variables. They make working wit python much easier.\nwe use import function to import these packages or modules. The imported modules act as namespaces. A namespace is a logical grouping of functions, classes, variables etc\n\n#### Some examples include"
    },
    {
      "metadata": {
        "trusted": true
      },
      "cell_type": "code",
      "source": "import math # math is a namespace also known as one of the python packages",
      "execution_count": 1,
      "outputs": []
    },
    {
      "metadata": {
        "trusted": true
      },
      "cell_type": "code",
      "source": "math.ceil(3.4) # this returns the decimal part of a number",
      "execution_count": 2,
      "outputs": [
        {
          "output_type": "execute_result",
          "execution_count": 2,
          "data": {
            "text/plain": "4"
          },
          "metadata": {}
        }
      ]
    },
    {
      "metadata": {
        "trusted": true
      },
      "cell_type": "code",
      "source": "math.factorial(6) # gives the factorial of a number",
      "execution_count": 3,
      "outputs": [
        {
          "output_type": "execute_result",
          "execution_count": 3,
          "data": {
            "text/plain": "720"
          },
          "metadata": {}
        }
      ]
    },
    {
      "metadata": {
        "trusted": true
      },
      "cell_type": "code",
      "source": "math.gcd(40, 15) # returns the gcd greatest common divisor of given numbers",
      "execution_count": 4,
      "outputs": [
        {
          "output_type": "execute_result",
          "execution_count": 4,
          "data": {
            "text/plain": "5"
          },
          "metadata": {}
        }
      ]
    },
    {
      "metadata": {
        "trusted": true
      },
      "cell_type": "code",
      "source": "math.pow(2, 3) # This means 2 to the power of 3",
      "execution_count": 5,
      "outputs": [
        {
          "output_type": "execute_result",
          "execution_count": 5,
          "data": {
            "text/plain": "8.0"
          },
          "metadata": {}
        }
      ]
    },
    {
      "metadata": {
        "trusted": true
      },
      "cell_type": "code",
      "source": "math.pi # this gives pi ",
      "execution_count": 6,
      "outputs": [
        {
          "output_type": "execute_result",
          "execution_count": 6,
          "data": {
            "text/plain": "3.141592653589793"
          },
          "metadata": {}
        }
      ]
    },
    {
      "metadata": {
        "trusted": true
      },
      "cell_type": "code",
      "source": "math.e #often called Euler's number ",
      "execution_count": 7,
      "outputs": [
        {
          "output_type": "execute_result",
          "execution_count": 7,
          "data": {
            "text/plain": "2.718281828459045"
          },
          "metadata": {}
        }
      ]
    },
    {
      "metadata": {
        "trusted": true
      },
      "cell_type": "code",
      "source": "math.nan # nan represents \"not a number\" this means or indicates a calculation can not ber expresed as a number",
      "execution_count": 8,
      "outputs": [
        {
          "output_type": "execute_result",
          "execution_count": 8,
          "data": {
            "text/plain": "nan"
          },
          "metadata": {}
        }
      ]
    },
    {
      "metadata": {
        "trusted": true
      },
      "cell_type": "code",
      "source": "math.isnan(4) # checks if a value is nan",
      "execution_count": 9,
      "outputs": [
        {
          "output_type": "execute_result",
          "execution_count": 9,
          "data": {
            "text/plain": "False"
          },
          "metadata": {}
        }
      ]
    },
    {
      "metadata": {
        "trusted": true
      },
      "cell_type": "code",
      "source": "import random # to do random calculations",
      "execution_count": 10,
      "outputs": []
    },
    {
      "metadata": {
        "trusted": true
      },
      "cell_type": "code",
      "source": "# Shift-enter on this cell multiple times\nchoice = random.choice(['a', 'b', '3', 'g', 'h']) # random.choice this is used to select a random number from say a list \n\nchoice",
      "execution_count": 11,
      "outputs": [
        {
          "output_type": "execute_result",
          "execution_count": 11,
          "data": {
            "text/plain": "'b'"
          },
          "metadata": {}
        }
      ]
    },
    {
      "metadata": {
        "trusted": true
      },
      "cell_type": "code",
      "source": "some_list = ['a', 'b', '3', 'g', 'h']\n\nrandom.shuffle(some_list) # this is used to randomly shuffle elements in say a list\n\nsome_list",
      "execution_count": 12,
      "outputs": [
        {
          "output_type": "execute_result",
          "execution_count": 12,
          "data": {
            "text/plain": "['b', '3', 'a', 'g', 'h']"
          },
          "metadata": {}
        }
      ]
    },
    {
      "metadata": {
        "trusted": true
      },
      "cell_type": "code",
      "source": "import os # import the opearting system infomation",
      "execution_count": 13,
      "outputs": []
    },
    {
      "metadata": {
        "trusted": true
      },
      "cell_type": "code",
      "source": "os.getcwd() # gets me info about my current working directorate",
      "execution_count": 14,
      "outputs": [
        {
          "output_type": "execute_result",
          "execution_count": 14,
          "data": {
            "text/plain": "'/home/nbuser/library/Introduction To Python'"
          },
          "metadata": {}
        }
      ]
    },
    {
      "metadata": {
        "trusted": true
      },
      "cell_type": "code",
      "source": "os.uname() # gives information about my operating system both the name and the details",
      "execution_count": 15,
      "outputs": [
        {
          "output_type": "execute_result",
          "execution_count": 15,
          "data": {
            "text/plain": "posix.uname_result(sysname='Linux', nodename='nbserver', release='4.14.29-linuxkit', version='#1 SMP Thu Mar 22 20:44:45 UTC 2018', machine='x86_64')"
          },
          "metadata": {}
        }
      ]
    },
    {
      "metadata": {
        "trusted": true
      },
      "cell_type": "code",
      "source": "os.listdir('.') # this loads the list of files in my current directorate",
      "execution_count": 16,
      "outputs": [
        {
          "output_type": "execute_result",
          "execution_count": 16,
          "data": {
            "text/plain": "['Demo5_StringsAsLists.ipynb',\n 'PythonIntro-Demo14_Modules.ipynb',\n 'Demo3 Variables Demo .ipynb',\n 'PythonIntro-Demo4_Lists.ipynb',\n 'PythonIntro-Demo10_ForLoops.ipynb',\n 'More practice.ipynb',\n 'PythonIntro-Demo7_Dictionaries.ipynb',\n 'Basic Python Calculation Demo.ipynb',\n 'PythonIntro-Demo13_MoreProgrammingProblems.ipynb',\n 'PythonIntro-Demo12_ProgrammingProblems.ipynb',\n 'Practice.ipynb',\n 'PythonIntro-Demo8_IfElse.ipynb',\n 'PythonIntro-Demo6_Tuples.ipynb',\n 'Basic Built In Functions Demo.ipynb',\n 'PythonIntro-Demo9_Conversions.ipynb',\n 'PythonIntro-Demo5_StringsAsLists.ipynb',\n 'PythonIntro-Demo11_WhileLoops.ipynb']"
          },
          "metadata": {}
        }
      ]
    },
    {
      "metadata": {
        "trusted": true
      },
      "cell_type": "code",
      "source": "os.mkdir('./new_dir') # creating a new directorate under the current directorate",
      "execution_count": 17,
      "outputs": []
    },
    {
      "metadata": {
        "trusted": true
      },
      "cell_type": "code",
      "source": "os.listdir('.') # checking if it appears in my working directorate",
      "execution_count": 18,
      "outputs": [
        {
          "output_type": "execute_result",
          "execution_count": 18,
          "data": {
            "text/plain": "['Demo5_StringsAsLists.ipynb',\n 'PythonIntro-Demo14_Modules.ipynb',\n 'Demo3 Variables Demo .ipynb',\n 'PythonIntro-Demo4_Lists.ipynb',\n 'PythonIntro-Demo10_ForLoops.ipynb',\n 'More practice.ipynb',\n 'PythonIntro-Demo7_Dictionaries.ipynb',\n 'Basic Python Calculation Demo.ipynb',\n 'PythonIntro-Demo13_MoreProgrammingProblems.ipynb',\n 'PythonIntro-Demo12_ProgrammingProblems.ipynb',\n 'Practice.ipynb',\n 'PythonIntro-Demo8_IfElse.ipynb',\n 'new_dir',\n 'PythonIntro-Demo6_Tuples.ipynb',\n 'Basic Built In Functions Demo.ipynb',\n 'PythonIntro-Demo9_Conversions.ipynb',\n 'PythonIntro-Demo5_StringsAsLists.ipynb',\n 'PythonIntro-Demo11_WhileLoops.ipynb']"
          },
          "metadata": {}
        }
      ]
    },
    {
      "metadata": {
        "trusted": true
      },
      "cell_type": "code",
      "source": "os.rename('new_dir', 'old_dir') # renaming a directorate",
      "execution_count": 19,
      "outputs": []
    },
    {
      "metadata": {
        "trusted": true
      },
      "cell_type": "code",
      "source": "os.listdir('.')# checking if it the name has been changed in my working directorate",
      "execution_count": 20,
      "outputs": [
        {
          "output_type": "execute_result",
          "execution_count": 20,
          "data": {
            "text/plain": "['Demo5_StringsAsLists.ipynb',\n 'PythonIntro-Demo14_Modules.ipynb',\n 'Demo3 Variables Demo .ipynb',\n 'PythonIntro-Demo4_Lists.ipynb',\n 'PythonIntro-Demo10_ForLoops.ipynb',\n 'More practice.ipynb',\n 'PythonIntro-Demo7_Dictionaries.ipynb',\n 'Basic Python Calculation Demo.ipynb',\n 'PythonIntro-Demo13_MoreProgrammingProblems.ipynb',\n 'PythonIntro-Demo12_ProgrammingProblems.ipynb',\n 'Practice.ipynb',\n 'PythonIntro-Demo8_IfElse.ipynb',\n 'old_dir',\n 'PythonIntro-Demo6_Tuples.ipynb',\n 'Basic Built In Functions Demo.ipynb',\n 'PythonIntro-Demo9_Conversions.ipynb',\n 'PythonIntro-Demo5_StringsAsLists.ipynb',\n 'PythonIntro-Demo11_WhileLoops.ipynb']"
          },
          "metadata": {}
        }
      ]
    },
    {
      "metadata": {
        "trusted": true
      },
      "cell_type": "code",
      "source": "os.rmdir('old_dir') #deleting a work directorate",
      "execution_count": 21,
      "outputs": []
    },
    {
      "metadata": {
        "trusted": true
      },
      "cell_type": "code",
      "source": "os.listdir('.') # checking if it the directorate has been deleted in my working directorate",
      "execution_count": 22,
      "outputs": [
        {
          "output_type": "execute_result",
          "execution_count": 22,
          "data": {
            "text/plain": "['Demo5_StringsAsLists.ipynb',\n 'PythonIntro-Demo14_Modules.ipynb',\n 'Demo3 Variables Demo .ipynb',\n 'PythonIntro-Demo4_Lists.ipynb',\n 'PythonIntro-Demo10_ForLoops.ipynb',\n 'More practice.ipynb',\n 'PythonIntro-Demo7_Dictionaries.ipynb',\n 'Basic Python Calculation Demo.ipynb',\n 'PythonIntro-Demo13_MoreProgrammingProblems.ipynb',\n 'PythonIntro-Demo12_ProgrammingProblems.ipynb',\n 'Practice.ipynb',\n 'PythonIntro-Demo8_IfElse.ipynb',\n 'PythonIntro-Demo6_Tuples.ipynb',\n 'Basic Built In Functions Demo.ipynb',\n 'PythonIntro-Demo9_Conversions.ipynb',\n 'PythonIntro-Demo5_StringsAsLists.ipynb',\n 'PythonIntro-Demo11_WhileLoops.ipynb']"
          },
          "metadata": {}
        }
      ]
    },
    {
      "metadata": {
        "trusted": true
      },
      "cell_type": "code",
      "source": "os.name # getting my operating system name",
      "execution_count": 23,
      "outputs": [
        {
          "output_type": "execute_result",
          "execution_count": 23,
          "data": {
            "text/plain": "'posix'"
          },
          "metadata": {}
        }
      ]
    },
    {
      "metadata": {
        "trusted": true
      },
      "cell_type": "code",
      "source": "os.path.exists('/tmp') # checking a file path exists",
      "execution_count": 24,
      "outputs": [
        {
          "output_type": "execute_result",
          "execution_count": 24,
          "data": {
            "text/plain": "True"
          },
          "metadata": {}
        }
      ]
    },
    {
      "metadata": {
        "trusted": true
      },
      "cell_type": "code",
      "source": "os.path.exists('/usr/local/bin')",
      "execution_count": 25,
      "outputs": [
        {
          "output_type": "execute_result",
          "execution_count": 25,
          "data": {
            "text/plain": "True"
          },
          "metadata": {}
        }
      ]
    },
    {
      "metadata": {
        "trusted": true
      },
      "cell_type": "code",
      "source": "from os import path # we can use path directly without os at the begining by importing path as shown",
      "execution_count": 26,
      "outputs": []
    },
    {
      "metadata": {
        "trusted": true
      },
      "cell_type": "code",
      "source": "#we have two paths the relative and absolute path\n# absolute path starts with (/) in macx and linux where / is a root folder\n#and with (C:/ or D:/ ) for windows where C and D are drive names.\n# \"./new_drive/data/images\" is an example of a  relative path\npath.abspath('.')# absolute path to any folder or path you specify",
      "execution_count": 27,
      "outputs": [
        {
          "output_type": "execute_result",
          "execution_count": 27,
          "data": {
            "text/plain": "'/home/nbuser/library/Introduction To Python'"
          },
          "metadata": {}
        }
      ]
    },
    {
      "metadata": {
        "trusted": true
      },
      "cell_type": "code",
      "source": "path.isfile('.') # to check if its a file or a folder",
      "execution_count": 28,
      "outputs": [
        {
          "output_type": "execute_result",
          "execution_count": 28,
          "data": {
            "text/plain": "False"
          },
          "metadata": {}
        }
      ]
    },
    {
      "metadata": {
        "trusted": true
      },
      "cell_type": "code",
      "source": "os.listdir('.') # the list of files in my current directorate",
      "execution_count": 29,
      "outputs": [
        {
          "output_type": "execute_result",
          "execution_count": 29,
          "data": {
            "text/plain": "['Demo5_StringsAsLists.ipynb',\n 'PythonIntro-Demo14_Modules.ipynb',\n 'Demo3 Variables Demo .ipynb',\n 'PythonIntro-Demo4_Lists.ipynb',\n 'PythonIntro-Demo10_ForLoops.ipynb',\n 'More practice.ipynb',\n 'PythonIntro-Demo7_Dictionaries.ipynb',\n 'Basic Python Calculation Demo.ipynb',\n 'PythonIntro-Demo13_MoreProgrammingProblems.ipynb',\n 'PythonIntro-Demo12_ProgrammingProblems.ipynb',\n 'Practice.ipynb',\n 'PythonIntro-Demo8_IfElse.ipynb',\n 'PythonIntro-Demo6_Tuples.ipynb',\n 'Basic Built In Functions Demo.ipynb',\n 'PythonIntro-Demo9_Conversions.ipynb',\n 'PythonIntro-Demo5_StringsAsLists.ipynb',\n 'PythonIntro-Demo11_WhileLoops.ipynb']"
          },
          "metadata": {}
        }
      ]
    },
    {
      "metadata": {
        "trusted": true
      },
      "cell_type": "code",
      "source": "path.isfile('PythonIntro-Demo1_Calculator.ipynb')",
      "execution_count": 30,
      "outputs": [
        {
          "output_type": "execute_result",
          "execution_count": 30,
          "data": {
            "text/plain": "False"
          },
          "metadata": {}
        }
      ]
    },
    {
      "metadata": {
        "trusted": true
      },
      "cell_type": "code",
      "source": "",
      "execution_count": null,
      "outputs": []
    }
  ],
  "metadata": {
    "kernelspec": {
      "name": "python3",
      "display_name": "Python 3",
      "language": "python"
    },
    "language_info": {
      "mimetype": "text/x-python",
      "nbconvert_exporter": "python",
      "name": "python",
      "file_extension": ".py",
      "version": "3.5.4",
      "pygments_lexer": "ipython3",
      "codemirror_mode": {
        "version": 3,
        "name": "ipython"
      }
    }
  },
  "nbformat": 4,
  "nbformat_minor": 2
}