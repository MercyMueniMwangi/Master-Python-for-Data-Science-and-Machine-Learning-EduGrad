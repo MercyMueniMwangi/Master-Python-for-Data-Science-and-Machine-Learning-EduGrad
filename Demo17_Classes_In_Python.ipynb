{
  "cells": [
    {
      "metadata": {},
      "cell_type": "markdown",
      "source": "# Student Class With Only Variables\nA Class is like an object constructor, or a \"blueprint\" for creating objects. To create a class, use the keyword class.Programmers use classes to keep related things together. Defines how an item made from a class looks like. \n\n#### Note:\n    Class is the blueprint. That is class objects or instances are different houses made from the sasme blueprint"
    },
    {
      "metadata": {
        "trusted": true
      },
      "cell_type": "code",
      "source": "#defining a class called student\nclass Student:\n    \n    # classes have member variables or characteristics of that class\n    # for example these are member variables of class students\n    name = ''\n    score = 0\n    active = True",
      "execution_count": 1,
      "outputs": []
    },
    {
      "metadata": {
        "trusted": true
      },
      "cell_type": "code",
      "source": "#initializing one instance of a class by calling the class\n#instantiating a class in python is the same as invoking a function\ns1 = Student()",
      "execution_count": 2,
      "outputs": []
    },
    {
      "metadata": {
        "trusted": true
      },
      "cell_type": "code",
      "source": "#accessing the values of the variables within the class\n#accessing the value of variable name\ns1.name",
      "execution_count": 3,
      "outputs": [
        {
          "output_type": "execute_result",
          "execution_count": 3,
          "data": {
            "text/plain": "''"
          },
          "metadata": {}
        }
      ]
    },
    {
      "metadata": {
        "trusted": true
      },
      "cell_type": "code",
      "source": "#accessing the value of variable score\ns1.score",
      "execution_count": 4,
      "outputs": [
        {
          "output_type": "execute_result",
          "execution_count": 4,
          "data": {
            "text/plain": "0"
          },
          "metadata": {}
        }
      ]
    },
    {
      "metadata": {
        "trusted": true
      },
      "cell_type": "code",
      "source": "#accessing the value of variable active\ns1.active",
      "execution_count": 5,
      "outputs": [
        {
          "output_type": "execute_result",
          "execution_count": 5,
          "data": {
            "text/plain": "True"
          },
          "metadata": {}
        }
      ]
    },
    {
      "metadata": {
        "trusted": true
      },
      "cell_type": "code",
      "source": "# we can modify or update or change the value of a variable in a class\n# by assigning that variable a new value\ns1.name = 'Guby'",
      "execution_count": 6,
      "outputs": []
    },
    {
      "metadata": {
        "trusted": true
      },
      "cell_type": "code",
      "source": "s1.score = 50\ns1.active = True",
      "execution_count": 7,
      "outputs": []
    },
    {
      "metadata": {
        "trusted": true
      },
      "cell_type": "code",
      "source": "#checking the values of the member variables in class student\ns1.name, s1.score, s1.active",
      "execution_count": 8,
      "outputs": [
        {
          "output_type": "execute_result",
          "execution_count": 8,
          "data": {
            "text/plain": "('Guby', 50, True)"
          },
          "metadata": {}
        }
      ]
    },
    {
      "metadata": {
        "trusted": true
      },
      "cell_type": "code",
      "source": "# creating another object of class student stored in variable s2\ns2 = Student()",
      "execution_count": 9,
      "outputs": []
    },
    {
      "metadata": {
        "trusted": true
      },
      "cell_type": "code",
      "source": "# examining member variables of s2\ns2.name, s2.score, s2.active",
      "execution_count": 10,
      "outputs": [
        {
          "output_type": "execute_result",
          "execution_count": 10,
          "data": {
            "text/plain": "('', 0, True)"
          },
          "metadata": {}
        }
      ]
    },
    {
      "metadata": {
        "trusted": true
      },
      "cell_type": "code",
      "source": "# we can now modify or update or change the value of a variable s2 in a class\n# by assigning that variable a new value\ns2.name = 'Regi'",
      "execution_count": 11,
      "outputs": []
    },
    {
      "metadata": {
        "trusted": true
      },
      "cell_type": "code",
      "source": "s2.name, s2.score, s2.active",
      "execution_count": 12,
      "outputs": [
        {
          "output_type": "execute_result",
          "execution_count": 12,
          "data": {
            "text/plain": "('Regi', 0, True)"
          },
          "metadata": {}
        }
      ]
    },
    {
      "metadata": {
        "trusted": true
      },
      "cell_type": "code",
      "source": "s1.name, s1.score, s1.active",
      "execution_count": 13,
      "outputs": [
        {
          "output_type": "execute_result",
          "execution_count": 13,
          "data": {
            "text/plain": "('Guby', 50, True)"
          },
          "metadata": {}
        }
      ]
    },
    {
      "metadata": {
        "trusted": true
      },
      "cell_type": "code",
      "source": "# memory locations for each student is different\ns1, s2",
      "execution_count": 14,
      "outputs": [
        {
          "output_type": "execute_result",
          "execution_count": 14,
          "data": {
            "text/plain": "(<__main__.Student at 0x7fa4864a2dd8>, <__main__.Student at 0x7fa486443400>)"
          },
          "metadata": {}
        }
      ]
    },
    {
      "metadata": {},
      "cell_type": "markdown",
      "source": "## Class with variables and methods"
    },
    {
      "metadata": {
        "trusted": true
      },
      "cell_type": "code",
      "source": "# Defining a function in a class\nclass Dog:\n    # hash let syou add only one line of comment\n    # \"\"\"  \"\"\" Lets you add multilines of comments\n    \"\"\" This is a class which defines a dog.\n        This includes cute dogs as well as ferocious dogs.\n    \"\"\"\n    \n    \n    # Breed and name of the dog\n    breed = 'labrador'\n    name = 'Nemo'\n    \n    def print_dog_info():\n\n        print('My name is %s and I am a %s' % (name, breed))",
      "execution_count": 15,
      "outputs": []
    },
    {
      "metadata": {
        "trusted": true
      },
      "cell_type": "code",
      "source": "d1 = Dog()",
      "execution_count": 16,
      "outputs": []
    },
    {
      "metadata": {
        "trusted": true
      },
      "cell_type": "code",
      "source": "# invoking this arguement will give you an error print_dog_info() takes 0 positional arguments but 1 was given\n# This is because \n# python automatically passes in one special input arguement by default\nd1.print_dog_info()",
      "execution_count": 17,
      "outputs": [
        {
          "output_type": "error",
          "ename": "TypeError",
          "evalue": "print_dog_info() takes 0 positional arguments but 1 was given",
          "traceback": [
            "\u001b[0;31m---------------------------------------------------------------------------\u001b[0m",
            "\u001b[0;31mTypeError\u001b[0m                                 Traceback (most recent call last)",
            "\u001b[0;32m<ipython-input-17-22dcd1d37e4d>\u001b[0m in \u001b[0;36m<module>\u001b[0;34m()\u001b[0m\n\u001b[1;32m      2\u001b[0m \u001b[0;31m# This is because\u001b[0m\u001b[0;34m\u001b[0m\u001b[0;34m\u001b[0m\u001b[0m\n\u001b[1;32m      3\u001b[0m \u001b[0;31m# python automatically passes in one special input arguement by default\u001b[0m\u001b[0;34m\u001b[0m\u001b[0;34m\u001b[0m\u001b[0m\n\u001b[0;32m----> 4\u001b[0;31m \u001b[0md1\u001b[0m\u001b[0;34m.\u001b[0m\u001b[0mprint_dog_info\u001b[0m\u001b[0;34m(\u001b[0m\u001b[0;34m)\u001b[0m\u001b[0;34m\u001b[0m\u001b[0m\n\u001b[0m",
            "\u001b[0;31mTypeError\u001b[0m: print_dog_info() takes 0 positional arguments but 1 was given"
          ]
        }
      ]
    },
    {
      "metadata": {
        "trusted": true
      },
      "cell_type": "code",
      "source": "class Dog:\n    \"\"\" This is a class which defines a dog.\n        This includes cute dogs as well as ferocious dogs.\n    \"\"\"\n    \n    \n    # Breed and name of the dog\n    breed = 'labrador'\n    name = 'Nemo'\n    \n    def print_dog_info(self):\n\n        print('My name is %s and I am a %s' % (name , breed))",
      "execution_count": 18,
      "outputs": []
    },
    {
      "metadata": {
        "trusted": true
      },
      "cell_type": "code",
      "source": "d1 = Dog()",
      "execution_count": 19,
      "outputs": []
    },
    {
      "metadata": {
        "trusted": true
      },
      "cell_type": "code",
      "source": "d1 = Dog()\n# we get an error NameError: name 'name' is not defined\n# the name and breed are not global variables\n# they are withing the class\nd1.print_dog_info()",
      "execution_count": 20,
      "outputs": [
        {
          "output_type": "error",
          "ename": "NameError",
          "evalue": "name 'name' is not defined",
          "traceback": [
            "\u001b[0;31m---------------------------------------------------------------------------\u001b[0m",
            "\u001b[0;31mNameError\u001b[0m                                 Traceback (most recent call last)",
            "\u001b[0;32m<ipython-input-20-774e6bc42e69>\u001b[0m in \u001b[0;36m<module>\u001b[0;34m()\u001b[0m\n\u001b[1;32m      3\u001b[0m \u001b[0;31m# the name and breed are not global variables\u001b[0m\u001b[0;34m\u001b[0m\u001b[0;34m\u001b[0m\u001b[0m\n\u001b[1;32m      4\u001b[0m \u001b[0;31m# they are withing the class\u001b[0m\u001b[0;34m\u001b[0m\u001b[0;34m\u001b[0m\u001b[0m\n\u001b[0;32m----> 5\u001b[0;31m \u001b[0md1\u001b[0m\u001b[0;34m.\u001b[0m\u001b[0mprint_dog_info\u001b[0m\u001b[0;34m(\u001b[0m\u001b[0;34m)\u001b[0m\u001b[0;34m\u001b[0m\u001b[0m\n\u001b[0m",
            "\u001b[0;32m<ipython-input-18-81df48a30e25>\u001b[0m in \u001b[0;36mprint_dog_info\u001b[0;34m(self)\u001b[0m\n\u001b[1;32m     11\u001b[0m     \u001b[0;32mdef\u001b[0m \u001b[0mprint_dog_info\u001b[0m\u001b[0;34m(\u001b[0m\u001b[0mself\u001b[0m\u001b[0;34m)\u001b[0m\u001b[0;34m:\u001b[0m\u001b[0;34m\u001b[0m\u001b[0m\n\u001b[1;32m     12\u001b[0m \u001b[0;34m\u001b[0m\u001b[0m\n\u001b[0;32m---> 13\u001b[0;31m         \u001b[0mprint\u001b[0m\u001b[0;34m(\u001b[0m\u001b[0;34m'My name is %s and I am a %s'\u001b[0m \u001b[0;34m%\u001b[0m \u001b[0;34m(\u001b[0m\u001b[0mname\u001b[0m \u001b[0;34m,\u001b[0m \u001b[0mbreed\u001b[0m\u001b[0;34m)\u001b[0m\u001b[0;34m)\u001b[0m\u001b[0;34m\u001b[0m\u001b[0m\n\u001b[0m",
            "\u001b[0;31mNameError\u001b[0m: name 'name' is not defined"
          ]
        }
      ]
    },
    {
      "metadata": {
        "trusted": true
      },
      "cell_type": "code",
      "source": "class Dog:\n    \"\"\" This is a class which defines a dog.\n        This includes cute dogs as well as ferocious dogs.\n    \"\"\"\n    \n    # Breed and name of the dog\n    breed = 'labrador'\n    name = 'Nemo'\n    \n    def print_dog_info(self):# self is a special keyword that refers to the object of that class itself\n\n        print('My name is %s and I am a %s' % (self.name, self.breed))",
      "execution_count": 21,
      "outputs": []
    },
    {
      "metadata": {
        "trusted": true
      },
      "cell_type": "code",
      "source": "d1 = Dog()\n# invocking the function or calling the function\nd1.print_dog_info()",
      "execution_count": 22,
      "outputs": [
        {
          "output_type": "stream",
          "text": "My name is Nemo and I am a labrador\n",
          "name": "stdout"
        }
      ]
    },
    {
      "metadata": {
        "trusted": true
      },
      "cell_type": "code",
      "source": "d1.name = \"Oba\"\n\nd1.print_dog_info()",
      "execution_count": 23,
      "outputs": [
        {
          "output_type": "stream",
          "text": "My name is Oba and I am a labrador\n",
          "name": "stdout"
        }
      ]
    },
    {
      "metadata": {},
      "cell_type": "markdown",
      "source": "## Making variables private. This is a hack in Python\nA class is supposed to be self-contained and the member variable should be updated or modified by functions. You do not want the outsiders to access these member variables directly. That is we do not want code outside to access the member variables.\nWe use __double underscore__ to prefix our member variables in python.\nIn python scrabbles/renames variables begining with double underscore. Outside code will not know the scrambled name, code within the class will."
    },
    {
      "metadata": {
        "trusted": true
      },
      "cell_type": "code",
      "source": "class Dog:\n    \"\"\" This is a class which defines a dog.\n        This includes acute dogs as well as ferocious dogs.\n    \"\"\"\n    \n    # Breed and name of the dog\n    # using underscore\n    __breed = 'labrador'\n    __name = 'Nemo'\n    \n    def print_dog_info(self):\n\n        print('My name is %s and I am a %s' % (self.__name, self.__breed))",
      "execution_count": 24,
      "outputs": []
    },
    {
      "metadata": {
        "trusted": true
      },
      "cell_type": "code",
      "source": "d1 = Dog()\n\nd1.print_dog_info()",
      "execution_count": 25,
      "outputs": [
        {
          "output_type": "stream",
          "text": "My name is Nemo and I am a labrador\n",
          "name": "stdout"
        }
      ]
    },
    {
      "metadata": {
        "trusted": true
      },
      "cell_type": "code",
      "source": "# trying to change the name \n# it is not modified\nd1.__name = \"Oba\"\n\nd1.print_dog_info()",
      "execution_count": 26,
      "outputs": [
        {
          "output_type": "stream",
          "text": "My name is Nemo and I am a labrador\n",
          "name": "stdout"
        }
      ]
    },
    {
      "metadata": {
        "trusted": true
      },
      "cell_type": "code",
      "source": "class Dog:\n    \"\"\" This is a class which defines a dog.\n        This includes cute dogs as well as ferocious dogs.\n    \"\"\"\n    \n    # Breed and name of the dog\n    # using underscore\n    __breed = 'labrador'\n    __name = 'Nemo'\n    \n    def print_dog_info(self):\n        print('My name is %s and I am a %s' % (self.__name, self.__breed))\n        \n    def change_name(self, name):# creating a function to change name\n        self.__name = name",
      "execution_count": 27,
      "outputs": []
    },
    {
      "metadata": {
        "trusted": true
      },
      "cell_type": "code",
      "source": "d1 = Dog()\n\nd1.print_dog_info()",
      "execution_count": 28,
      "outputs": [
        {
          "output_type": "stream",
          "text": "My name is Nemo and I am a labrador\n",
          "name": "stdout"
        }
      ]
    },
    {
      "metadata": {
        "trusted": true
      },
      "cell_type": "code",
      "source": "#to change name\nd1.change_name(\"Oba\")\n# confirming name is changed from Nemo to Oba\nd1.print_dog_info()",
      "execution_count": 29,
      "outputs": [
        {
          "output_type": "stream",
          "text": "My name is Oba and I am a labrador\n",
          "name": "stdout"
        }
      ]
    },
    {
      "metadata": {},
      "cell_type": "markdown",
      "source": "## Initializing classes in Python\nThis happens when say we want to give our dog the right name at the time we instantiate the object"
    },
    {
      "metadata": {
        "trusted": true
      },
      "cell_type": "code",
      "source": "class Dog:\n    \"\"\" This is a class which defines a dog.\n        This includes cute dogs as well as ferocious dogs.\n    \"\"\"\n    \n    # Breed and name of the dog\n    __breed = 'labrador'\n    __name = 'Nemo'\n    \n    \n    def __init__(self, name, breed):# this helps us initialize the variable in our class\n                                    # self, name, breed become our input arguements\n        self.__name = name\n        self.__breed = breed\n    \n    \n    def print_dog_info(self):\n\n        print('My name is %s and I am a %s' % (self.__name, self.__breed))",
      "execution_count": 30,
      "outputs": []
    },
    {
      "metadata": {
        "trusted": true
      },
      "cell_type": "code",
      "source": "# this will give us an error that 2 arguements are missing\n#TypeError: __init__() missing 2 required positional arguments: 'name' and 'breed'\nd1 = Dog()",
      "execution_count": 31,
      "outputs": [
        {
          "output_type": "error",
          "ename": "TypeError",
          "evalue": "__init__() missing 2 required positional arguments: 'name' and 'breed'",
          "traceback": [
            "\u001b[0;31m---------------------------------------------------------------------------\u001b[0m",
            "\u001b[0;31mTypeError\u001b[0m                                 Traceback (most recent call last)",
            "\u001b[0;32m<ipython-input-31-0b8e1ba7e5f9>\u001b[0m in \u001b[0;36m<module>\u001b[0;34m()\u001b[0m\n\u001b[1;32m      1\u001b[0m \u001b[0;31m# this will give us an error that 2 arguements are missing\u001b[0m\u001b[0;34m\u001b[0m\u001b[0;34m\u001b[0m\u001b[0m\n\u001b[1;32m      2\u001b[0m \u001b[0;31m#TypeError: __init__() missing 2 required positional arguments: 'name' and 'breed'\u001b[0m\u001b[0;34m\u001b[0m\u001b[0;34m\u001b[0m\u001b[0m\n\u001b[0;32m----> 3\u001b[0;31m \u001b[0md1\u001b[0m \u001b[0;34m=\u001b[0m \u001b[0mDog\u001b[0m\u001b[0;34m(\u001b[0m\u001b[0;34m)\u001b[0m\u001b[0;34m\u001b[0m\u001b[0m\n\u001b[0m",
            "\u001b[0;31mTypeError\u001b[0m: __init__() missing 2 required positional arguments: 'name' and 'breed'"
          ]
        }
      ]
    },
    {
      "metadata": {
        "trusted": true
      },
      "cell_type": "code",
      "source": "# we add the input arguements to instantiate a class in python\nd1 = Dog('Moje', 'Golden Retriever')\n\nd1.print_dog_info()",
      "execution_count": 32,
      "outputs": [
        {
          "output_type": "stream",
          "text": "My name is Moje and I am a Golden Retriever\n",
          "name": "stdout"
        }
      ]
    },
    {
      "metadata": {
        "trusted": true
      },
      "cell_type": "code",
      "source": "class Dog:\n    \"\"\" This is a class which defines a dog.\n        This includes cute dogs as well as ferocious dogs.\n    \"\"\"\n    \n    # Breed and name of the dog\n    __breed = ''\n    __name = ''\n    \n    # we can also assign default inpout arguements to the __init__ fumction\n    def __init__(self, name='Nemo', breed='Labrador'):\n        self.__name = name\n        self.__breed = breed\n    \n    \n    def print_dog_info(self):\n\n        print('My name is %s and I am a %s' % (self.__name, self.__breed))",
      "execution_count": 33,
      "outputs": []
    },
    {
      "metadata": {
        "trusted": true
      },
      "cell_type": "code",
      "source": "# just like in functions we can still specify the input functions \nd1 = Dog('Moje', 'Golden Retriever')\n\nd1.print_dog_info()",
      "execution_count": 34,
      "outputs": [
        {
          "output_type": "stream",
          "text": "My name is Moje and I am a Golden Retriever\n",
          "name": "stdout"
        }
      ]
    },
    {
      "metadata": {
        "trusted": true
      },
      "cell_type": "code",
      "source": "# if the input functions are not specified the instance takes on the defaut input arguements\nd1 = Dog()\n\nd1.print_dog_info()",
      "execution_count": 35,
      "outputs": [
        {
          "output_type": "stream",
          "text": "My name is Nemo and I am a Labrador\n",
          "name": "stdout"
        }
      ]
    },
    {
      "metadata": {},
      "cell_type": "markdown",
      "source": "## Shared variables and member variables\n"
    },
    {
      "metadata": {
        "trusted": true
      },
      "cell_type": "code",
      "source": "class Dog:\n    \"\"\" This is a class which defines a dog.\n        This includes cute dogs as well as ferocious dogs.\n    \"\"\"\n    \n    # These variables are actually shared by all class instances\n    # Note: number, string and boolean are immutable \n    # that is they behave differently and each object has its own copy of primitives\n    # What if we have mutable dtype like lists.\n    __breed = ''\n    __name = ''\n    __tricks = []    \n    \n    def __init__(self, name, breed):# initialization\n        self.__name = name\n        self.__breed = breed\n    \n    def print_dog_info(self):\n        print('My name is %s and I am a %s' % (self.__name, self.__breed))\n        print('Here are the tricks I can do: ', self.__tricks)\n\n    def change_name(self, name): # a function to change name \n        self.__name = name\n        \n    def add_trick(self, trick): # to add a trick say a new trick your dog learned\n        self.__tricks.append(trick)# this list will be shared across all class instances",
      "execution_count": 36,
      "outputs": []
    },
    {
      "metadata": {
        "trusted": true
      },
      "cell_type": "code",
      "source": "d1 = Dog('Moje', 'Golden Retriever') #Moje knows no tricks at this time\n\nd1.print_dog_info()",
      "execution_count": 37,
      "outputs": [
        {
          "output_type": "stream",
          "text": "My name is Moje and I am a Golden Retriever\nHere are the tricks I can do:  []\n",
          "name": "stdout"
        }
      ]
    },
    {
      "metadata": {
        "trusted": true
      },
      "cell_type": "code",
      "source": "d2 = Dog('Nemo', 'Mongrel')# Nemo has no tricks\n\nd2.print_dog_info()",
      "execution_count": 38,
      "outputs": [
        {
          "output_type": "stream",
          "text": "My name is Nemo and I am a Mongrel\nHere are the tricks I can do:  []\n",
          "name": "stdout"
        }
      ]
    },
    {
      "metadata": {
        "trusted": true
      },
      "cell_type": "code",
      "source": "# Note that this takes only one argument\n# we modify the name of our Dog from Moje to Dumbo\nd1.change_name('Dumbo')\n\nd1.print_dog_info()",
      "execution_count": 39,
      "outputs": [
        {
          "output_type": "stream",
          "text": "My name is Dumbo and I am a Golden Retriever\nHere are the tricks I can do:  []\n",
          "name": "stdout"
        }
      ]
    },
    {
      "metadata": {
        "trusted": true
      },
      "cell_type": "code",
      "source": "d2.print_dog_info()",
      "execution_count": 40,
      "outputs": [
        {
          "output_type": "stream",
          "text": "My name is Nemo and I am a Mongrel\nHere are the tricks I can do:  []\n",
          "name": "stdout"
        }
      ]
    },
    {
      "metadata": {
        "trusted": true
      },
      "cell_type": "code",
      "source": "d1.add_trick('Roll over')# say Dumbo the Golden Retriever learned a new trick say Roll over\n\nd1.print_dog_info()",
      "execution_count": 41,
      "outputs": [
        {
          "output_type": "stream",
          "text": "My name is Dumbo and I am a Golden Retriever\nHere are the tricks I can do:  ['Roll over']\n",
          "name": "stdout"
        }
      ]
    },
    {
      "metadata": {
        "trusted": true
      },
      "cell_type": "code",
      "source": "#When you call Nemo we see his tricks have been update to roll over too\n#But we did not update his tricks\nd2.print_dog_info()",
      "execution_count": 42,
      "outputs": [
        {
          "output_type": "stream",
          "text": "My name is Nemo and I am a Mongrel\nHere are the tricks I can do:  ['Roll over']\n",
          "name": "stdout"
        }
      ]
    },
    {
      "metadata": {
        "trusted": true
      },
      "cell_type": "code",
      "source": "#Lets rectify the situation above\nclass Dog:\n    \"\"\" This is a class which defines a dog.\n        This includes cute dogs as well as ferocious dogs.\n    \"\"\"\n    \n    # These variables are actually shared by all class instances\n    __kind = 'canine'\n    \n    # The variables we don't want shared across all the classes we add them to the __init__ function\n    # That is we specify them in the __init__ function\n    def __init__(self, name, breed):\n        self.__name = name\n        self.__breed = breed\n        self.__tricks = []\n    \n    def print_dog_info(self):\n        print('My name is %s and I am a %s' % (self.__name, self.__breed))\n        print('Here are the tricks I can do: ', self.__tricks)\n\n    def change_name(self, name):\n        self.__name = name\n        \n    def add_trick(self, trick):\n        self.__tricks.append(trick)",
      "execution_count": 43,
      "outputs": []
    },
    {
      "metadata": {
        "trusted": true
      },
      "cell_type": "code",
      "source": "d1 = Dog('Moje', 'Golden Retriever')\n\nd1.print_dog_info()",
      "execution_count": 44,
      "outputs": [
        {
          "output_type": "stream",
          "text": "My name is Moje and I am a Golden Retriever\nHere are the tricks I can do:  []\n",
          "name": "stdout"
        }
      ]
    },
    {
      "metadata": {
        "trusted": true
      },
      "cell_type": "code",
      "source": "d2 = Dog('Nemo', 'Mongrel')\n\nd2.print_dog_info()",
      "execution_count": 45,
      "outputs": [
        {
          "output_type": "stream",
          "text": "My name is Nemo and I am a Mongrel\nHere are the tricks I can do:  []\n",
          "name": "stdout"
        }
      ]
    },
    {
      "metadata": {
        "trusted": true
      },
      "cell_type": "code",
      "source": "# lets say Moje learned how to rool over\nd1.add_trick('Roll over')\n\nd1.print_dog_info()",
      "execution_count": 46,
      "outputs": [
        {
          "output_type": "stream",
          "text": "My name is Moje and I am a Golden Retriever\nHere are the tricks I can do:  ['Roll over']\n",
          "name": "stdout"
        }
      ]
    },
    {
      "metadata": {
        "trusted": true
      },
      "cell_type": "code",
      "source": "# lets see if this affected Nemo tricks too\nd2.print_dog_info()\n# no it doesn't ",
      "execution_count": 47,
      "outputs": [
        {
          "output_type": "stream",
          "text": "My name is Nemo and I am a Mongrel\nHere are the tricks I can do:  []\n",
          "name": "stdout"
        }
      ]
    },
    {
      "metadata": {
        "trusted": true
      },
      "cell_type": "code",
      "source": "#say Nemo can now play dead\nd2.add_trick('Play dead')",
      "execution_count": 48,
      "outputs": []
    },
    {
      "metadata": {
        "trusted": true
      },
      "cell_type": "code",
      "source": "d2.print_dog_info()",
      "execution_count": 49,
      "outputs": [
        {
          "output_type": "stream",
          "text": "My name is Nemo and I am a Mongrel\nHere are the tricks I can do:  ['Play dead']\n",
          "name": "stdout"
        }
      ]
    },
    {
      "metadata": {
        "trusted": true,
        "scrolled": true
      },
      "cell_type": "code",
      "source": "d1.print_dog_info() # that doesn't affect Moje",
      "execution_count": 50,
      "outputs": [
        {
          "output_type": "stream",
          "text": "My name is Moje and I am a Golden Retriever\nHere are the tricks I can do:  ['Roll over']\n",
          "name": "stdout"
        }
      ]
    },
    {
      "metadata": {},
      "cell_type": "markdown",
      "source": "## Calling one method from another within a class\nJust like we can invoke member functions or methods of a class from outside the class you can also have these functions invoke each other from within the class itself. "
    },
    {
      "metadata": {
        "trusted": true
      },
      "cell_type": "code",
      "source": "class Dog:\n    \"\"\" This is a class which defines a dog.\n        This includes cute dogs as well as ferocious dogs.\n    \"\"\"\n    \n    __kind = 'canine'\n    \n    def __init__(self, name, breed):\n        self.__name = name\n        self.__breed = breed\n        self.__tricks = []\n    \n    def print_dog_info(self):\n        print('My name is %s and I am a %s' % (self.__name, self.__breed))\n        print('Here are the tricks I can do: ', self.__tricks)\n\n    def change_name(self, name): # change the name of your dog\n        self.__name = name\n\n    def change_breed(self, breed):# change the breed of your dog\n        self.__breed = breed\n\n    def change_name_and_breed(self, name, breed): #Lets use the previous functions to change the name and breed of the dog\n        #We use self.function() because the function is within the class \n        self.change_name(name) # call the change_name function\n        self.change_breed(breed)# call the change breed function\n        \n    def add_trick(self, trick):\n        self.__tricks.append(trick)",
      "execution_count": 51,
      "outputs": []
    },
    {
      "metadata": {
        "trusted": true
      },
      "cell_type": "code",
      "source": "d1 = Dog('Moje', 'Golden Retriever')\n\nd1.print_dog_info()",
      "execution_count": 52,
      "outputs": [
        {
          "output_type": "stream",
          "text": "My name is Moje and I am a Golden Retriever\nHere are the tricks I can do:  []\n",
          "name": "stdout"
        }
      ]
    },
    {
      "metadata": {
        "trusted": true
      },
      "cell_type": "code",
      "source": "d1.change_name_and_breed('Oba', 'Labrador')# calling the function to change name and breed\n\nd1.print_dog_info()",
      "execution_count": 53,
      "outputs": [
        {
          "output_type": "stream",
          "text": "My name is Oba and I am a Labrador\nHere are the tricks I can do:  []\n",
          "name": "stdout"
        }
      ]
    },
    {
      "metadata": {
        "trusted": true
      },
      "cell_type": "code",
      "source": "",
      "execution_count": null,
      "outputs": []
    }
  ],
  "metadata": {
    "kernelspec": {
      "name": "python3",
      "display_name": "Python 3",
      "language": "python"
    },
    "language_info": {
      "mimetype": "text/x-python",
      "nbconvert_exporter": "python",
      "name": "python",
      "pygments_lexer": "ipython3",
      "version": "3.5.4",
      "file_extension": ".py",
      "codemirror_mode": {
        "version": 3,
        "name": "ipython"
      }
    }
  },
  "nbformat": 4,
  "nbformat_minor": 2
}