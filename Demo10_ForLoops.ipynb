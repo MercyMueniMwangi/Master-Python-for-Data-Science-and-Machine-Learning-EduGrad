{
  "cells": [
    {
      "metadata": {},
      "cell_type": "markdown",
      "source": "# For Loops\nThey help repeat action a certain number of times.  We use the for loops if we know how many times upfront we want to repeat the action. \n"
    },
    {
      "metadata": {
        "trusted": true
      },
      "cell_type": "code",
      "source": "tech_companies = ['Google', 'Apple', 'Facebook', 'Uber', 'Intel']",
      "execution_count": 1,
      "outputs": []
    },
    {
      "metadata": {
        "trusted": true
      },
      "cell_type": "code",
      "source": "print(tech_companies)",
      "execution_count": 2,
      "outputs": [
        {
          "output_type": "stream",
          "text": "['Google', 'Apple', 'Facebook', 'Uber', 'Intel']\n",
          "name": "stdout"
        }
      ]
    },
    {
      "metadata": {
        "trusted": true
      },
      "cell_type": "code",
      "source": "#suppose we want to print each company one after the other in the right order\n#this iterates through every element in the list\nfor company in tech_companies:\n    print(company)",
      "execution_count": 3,
      "outputs": [
        {
          "output_type": "stream",
          "text": "Google\nApple\nFacebook\nUber\nIntel\n",
          "name": "stdout"
        }
      ]
    },
    {
      "metadata": {
        "trusted": true
      },
      "cell_type": "code",
      "source": "# waht if we have a list of numbers\nsome_numbers = [10, 20, 30, 40, 50]",
      "execution_count": 4,
      "outputs": []
    },
    {
      "metadata": {
        "trusted": true
      },
      "cell_type": "code",
      "source": "# Here we print each number one after the other in the right order\nfor num in some_numbers:\n    print('The number is: ', num)",
      "execution_count": 5,
      "outputs": [
        {
          "output_type": "stream",
          "text": "The number is:  10\nThe number is:  20\nThe number is:  30\nThe number is:  40\nThe number is:  50\n",
          "name": "stdout"
        }
      ]
    },
    {
      "metadata": {
        "trusted": true
      },
      "cell_type": "code",
      "source": "# lets initialize our tatol to 0\ntotal = 0\n\nfor num in some_numbers:\n    total = total + num #this means take the total of the first iteration and the add to the current number\n    # That is in the first iteration we will have 0+10 =10\n    # the second iteration will be the total in iteration one plus the second element in the list 10+20 = 30\n    # the third iteration will be the total in iteration two plus the third element in the list 30+30 = 60\n    # the fourth iteration will be the total in iteration three plus the fourth element in the list 60+40 =100 and so on\n    print('The current value of total is: ', total)",
      "execution_count": 6,
      "outputs": [
        {
          "output_type": "stream",
          "text": "The current value of total is:  10\nThe current value of total is:  30\nThe current value of total is:  60\nThe current value of total is:  100\nThe current value of total is:  150\n",
          "name": "stdout"
        }
      ]
    },
    {
      "metadata": {
        "trusted": true
      },
      "cell_type": "code",
      "source": "# what if we want to print the last iteration alone\ntotal = 0\n\nfor num in some_numbers:\n    total = total + num\n\nprint('The total of all numbers: ', total) #take note of the indentation of the print statement. It is not within the for block",
      "execution_count": 7,
      "outputs": [
        {
          "output_type": "stream",
          "text": "The total of all numbers:  150\n",
          "name": "stdout"
        }
      ]
    },
    {
      "metadata": {
        "trusted": true
      },
      "cell_type": "code",
      "source": "# initializing the total to 100\ntotal = 100\n\nfor num in some_numbers:\n    total = total + num\n\nprint('The total of all numbers (initial value set to 100): ', total)",
      "execution_count": 8,
      "outputs": [
        {
          "output_type": "stream",
          "text": "The total of all numbers (initial value set to 100):  250\n",
          "name": "stdout"
        }
      ]
    },
    {
      "metadata": {
        "trusted": true
      },
      "cell_type": "code",
      "source": "# we can also do the count of the elements in our list\ncount = 0\n\nfor num in some_numbers:\n    count = count + 1\n    \nprint('The total length of the array is: ', count)    ",
      "execution_count": 9,
      "outputs": [
        {
          "output_type": "stream",
          "text": "The total length of the array is:  5\n",
          "name": "stdout"
        }
      ]
    },
    {
      "metadata": {},
      "cell_type": "markdown",
      "source": "## Range\nThis generates a number or element within a given range\nrange(0,5) = range (5) where five is not inclusive"
    },
    {
      "metadata": {
        "trusted": true
      },
      "cell_type": "code",
      "source": "range(5)",
      "execution_count": 10,
      "outputs": [
        {
          "output_type": "execute_result",
          "execution_count": 10,
          "data": {
            "text/plain": "range(0, 5)"
          },
          "metadata": {}
        }
      ]
    },
    {
      "metadata": {
        "trusted": true
      },
      "cell_type": "code",
      "source": "# this for lop print values from 0 to 4 one after the other\nfor i in range(5):\n    print(i)",
      "execution_count": 11,
      "outputs": [
        {
          "output_type": "stream",
          "text": "0\n1\n2\n3\n4\n",
          "name": "stdout"
        }
      ]
    },
    {
      "metadata": {
        "trusted": true
      },
      "cell_type": "code",
      "source": "for i in range(10):\n    print(i)",
      "execution_count": 12,
      "outputs": [
        {
          "output_type": "stream",
          "text": "0\n1\n2\n3\n4\n5\n6\n7\n8\n9\n",
          "name": "stdout"
        }
      ]
    },
    {
      "metadata": {
        "trusted": true
      },
      "cell_type": "code",
      "source": "# lets add a step\n#To learn more about step visit this link\n# https://github.com/MercyMueniMwangi/Master-Python-for-Data-Science-and-Machine-Learning-EduGrad/blob/master/Demo5_StringsasLists.ipynb\nfor number in range(0,20,2):\n    print(number)",
      "execution_count": 13,
      "outputs": [
        {
          "output_type": "stream",
          "text": "0\n2\n4\n6\n8\n10\n12\n14\n16\n18\n",
          "name": "stdout"
        }
      ]
    },
    {
      "metadata": {
        "trusted": true
      },
      "cell_type": "code",
      "source": "# lets reverse our for loop\nfor i in range(10,0,-2):\n   print(i)",
      "execution_count": 14,
      "outputs": [
        {
          "output_type": "stream",
          "text": "10\n8\n6\n4\n2\n",
          "name": "stdout"
        }
      ]
    },
    {
      "metadata": {},
      "cell_type": "markdown",
      "source": "### For Loops and Dictionaries"
    },
    {
      "metadata": {
        "trusted": true
      },
      "cell_type": "code",
      "source": "math_scores = {\n    \"Ram\": 97, \n    \"Kumar\": 35,\n    \"Kishan\": 67,\n    \"Natasha\": 73\n}",
      "execution_count": 15,
      "outputs": []
    },
    {
      "metadata": {
        "trusted": true
      },
      "cell_type": "code",
      "source": "# to extract each key one after the other\nfor item in math_scores:\n    print(item)\n    \n# to extract the last key alone\nprint('This retains the value of the last item in the list', item)    ",
      "execution_count": 16,
      "outputs": [
        {
          "output_type": "stream",
          "text": "Kishan\nKumar\nRam\nNatasha\nThis retains the value of the last item in the list Natasha\n",
          "name": "stdout"
        }
      ]
    },
    {
      "metadata": {
        "trusted": true
      },
      "cell_type": "code",
      "source": "# to extract each key one after the other using the .keys() function\nfor key in math_scores.keys():\n    print(key)\n# to extract the last key alone using the .keys() function    \nprint('This retains the value of the last item in the list', key)        ",
      "execution_count": 17,
      "outputs": [
        {
          "output_type": "stream",
          "text": "Kishan\nKumar\nRam\nNatasha\nThis retains the value of the last item in the list Natasha\n",
          "name": "stdout"
        }
      ]
    },
    {
      "metadata": {
        "trusted": true
      },
      "cell_type": "code",
      "source": "# to extract each value one after the other using the .values() function\nfor val in math_scores.values():\n    print(val)",
      "execution_count": 18,
      "outputs": [
        {
          "output_type": "stream",
          "text": "67\n35\n97\n73\n",
          "name": "stdout"
        }
      ]
    },
    {
      "metadata": {
        "trusted": true
      },
      "cell_type": "code",
      "source": "# to extract each key and the value of that key one after the other \nfor key in math_scores:\n    print('Key: ', key, math_scores[key])",
      "execution_count": 19,
      "outputs": [
        {
          "output_type": "stream",
          "text": "Key:  Kishan 67\nKey:  Kumar 35\nKey:  Ram 97\nKey:  Natasha 73\n",
          "name": "stdout"
        }
      ]
    },
    {
      "metadata": {
        "trusted": true
      },
      "cell_type": "code",
      "source": "# to extract each key and the value of that key one after the other using .items() fucntion\n# this returns a tuple\nfor item in math_scores.items():\n    print(item)",
      "execution_count": 20,
      "outputs": [
        {
          "output_type": "stream",
          "text": "('Kishan', 67)\n('Kumar', 35)\n('Ram', 97)\n('Natasha', 73)\n",
          "name": "stdout"
        }
      ]
    },
    {
      "metadata": {
        "trusted": true
      },
      "cell_type": "code",
      "source": "# to extract each key and the value of that key one after the other using .items() fucntion but not as a tuple\nfor key, value in math_scores.items():\n    print(key, value)",
      "execution_count": 21,
      "outputs": [
        {
          "output_type": "stream",
          "text": "Kishan 67\nKumar 35\nRam 97\nNatasha 73\n",
          "name": "stdout"
        }
      ]
    },
    {
      "metadata": {},
      "cell_type": "markdown",
      "source": "## Breaking out of a loop\nHere we use break. This is used to break out a loop. The loop comes out of the loop without completing all iterations"
    },
    {
      "metadata": {
        "trusted": true
      },
      "cell_type": "code",
      "source": "# lets break our loop after printing the first element\nfor i in range(5):\n    print(i)\n    break",
      "execution_count": 22,
      "outputs": [
        {
          "output_type": "stream",
          "text": "0\n",
          "name": "stdout"
        }
      ]
    },
    {
      "metadata": {
        "trusted": true
      },
      "cell_type": "code",
      "source": "# lets break the loop where i is equavalent to 3\nfor i in range(5):\n    print(i)\n    if i == 3:\n        break",
      "execution_count": 23,
      "outputs": [
        {
          "output_type": "stream",
          "text": "0\n1\n2\n3\n",
          "name": "stdout"
        }
      ]
    },
    {
      "metadata": {
        "trusted": true
      },
      "cell_type": "code",
      "source": "# Note the difference between this loop breaking and the next\n# this breaks after printing 6 and the other after 5\n# here the print statement comes before the condition breaking the loop\n# it gets the value of 6 rhen evaluates to find if it is greater than 5 then breaks\nfor i in range(10):\n    print(i)\n    if i > 5:\n        break",
      "execution_count": 24,
      "outputs": [
        {
          "output_type": "stream",
          "text": "0\n1\n2\n3\n4\n5\n6\n",
          "name": "stdout"
        }
      ]
    },
    {
      "metadata": {
        "trusted": true
      },
      "cell_type": "code",
      "source": "# here the print statement comes after the break statement in the if block\n# first it evaluates if i is greater than five breaks first\n# We first evaluate the condition first then print\nfor i in range(10):\n    if i > 5:\n        break\n    print(i)",
      "execution_count": 25,
      "outputs": [
        {
          "output_type": "stream",
          "text": "0\n1\n2\n3\n4\n5\n",
          "name": "stdout"
        }
      ]
    },
    {
      "metadata": {
        "trusted": true
      },
      "cell_type": "code",
      "source": "# here we break the loop ata point when the i is divisible by five\nfor i in range(1, 10):\n    if i % 5 == 0:\n        break\n    print(i)",
      "execution_count": 26,
      "outputs": [
        {
          "output_type": "stream",
          "text": "1\n2\n3\n4\n",
          "name": "stdout"
        }
      ]
    },
    {
      "metadata": {
        "trusted": true
      },
      "cell_type": "code",
      "source": "# breaking the company list at uber\n# if the company is uber break dont print any other companies after that\n# but also print the last uber company as unlisted\n# when the if condition is met break\nfor company in tech_companies:\n    print(company)\n    if company == 'Uber':\n        print('This company is not listed yet: ', company)\n        break",
      "execution_count": 27,
      "outputs": [
        {
          "output_type": "stream",
          "text": "Google\nApple\nFacebook\nUber\nThis company is not listed yet:  Uber\n",
          "name": "stdout"
        }
      ]
    },
    {
      "metadata": {},
      "cell_type": "markdown",
      "source": "## Continue statements\n Skips the current iteration or the itaration that meets the given if condition then goes back to the begining of  the next iteration"
    },
    {
      "metadata": {
        "trusted": true
      },
      "cell_type": "code",
      "source": "for company in tech_companies:\n    if company == 'Uber':\n        print(\"This company is not listed\")\n        continue\n    print(company)    ",
      "execution_count": 28,
      "outputs": [
        {
          "output_type": "stream",
          "text": "Google\nApple\nFacebook\nThis company is not listed\nIntel\n",
          "name": "stdout"
        }
      ]
    },
    {
      "metadata": {
        "trusted": true
      },
      "cell_type": "code",
      "source": "for i in range(1, 8):\n    print()\n    print('Before continue statement: ', i)\n    if i % 2 == 0:# this means skip the iteration where the value is divisible by two\n        continue\n    print('AFTER continue statement: ', i) ",
      "execution_count": 29,
      "outputs": [
        {
          "output_type": "stream",
          "text": "\nBefore continue statement:  1\nAFTER continue statement:  1\n\nBefore continue statement:  2\n\nBefore continue statement:  3\nAFTER continue statement:  3\n\nBefore continue statement:  4\n\nBefore continue statement:  5\nAFTER continue statement:  5\n\nBefore continue statement:  6\n\nBefore continue statement:  7\nAFTER continue statement:  7\n",
          "name": "stdout"
        }
      ]
    },
    {
      "metadata": {
        "trusted": true
      },
      "cell_type": "code",
      "source": "# this means if the given value between 1 and 31 is divisible by 5 print it else skip it\nfor i in range(1, 31):\n    if i % 5 == 0:\n        print('Multiple of 5: ', i)\n    else:\n        continue\n    print('Yes!')",
      "execution_count": 30,
      "outputs": [
        {
          "output_type": "stream",
          "text": "Multiple of 5:  5\nYes!\nMultiple of 5:  10\nYes!\nMultiple of 5:  15\nYes!\nMultiple of 5:  20\nYes!\nMultiple of 5:  25\nYes!\nMultiple of 5:  30\nYes!\n",
          "name": "stdout"
        }
      ]
    },
    {
      "metadata": {},
      "cell_type": "markdown",
      "source": "## Nested loops\nThis is ussualy a loop within another loop. That is we have an outer and inner loop."
    },
    {
      "metadata": {
        "trusted": true
      },
      "cell_type": "code",
      "source": "for i in range(1, 5): #outer loop\n\n    for j in ['a', 'b', 'c', 'd']:# inner loop\n        \n        print(i, j) # this means in each iteration of an element of the oter loop execute the inner loop completely",
      "execution_count": 31,
      "outputs": [
        {
          "output_type": "stream",
          "text": "1 a\n1 b\n1 c\n1 d\n2 a\n2 b\n2 c\n2 d\n3 a\n3 b\n3 c\n3 d\n4 a\n4 b\n4 c\n4 d\n",
          "name": "stdout"
        }
      ]
    },
    {
      "metadata": {
        "trusted": true
      },
      "cell_type": "code",
      "source": "# this is another example\n#https://www.digitalocean.com/community/tutorials/how-to-construct-for-loops-in-python-3\n# first print the first number in num_list then execute letters in alpha_list one after another\n# second print the second number in num_list then execute letters in alpha_list one after another and so on\nnum_list = [1, 2, 3]\nalpha_list = ['a', 'b', 'c']\n\nfor number in num_list:\n    print(number) \n    for letter in alpha_list:\n        print(letter)",
      "execution_count": 32,
      "outputs": [
        {
          "output_type": "stream",
          "text": "1\na\nb\nc\n2\na\nb\nc\n3\na\nb\nc\n",
          "name": "stdout"
        }
      ]
    },
    {
      "metadata": {
        "trusted": true
      },
      "cell_type": "code",
      "source": "#se a for loop to construct a list from scratch\nNumber = []\n\nfor i in range(20):\n   Number.append(i)\n\nprint(Number)",
      "execution_count": 33,
      "outputs": [
        {
          "output_type": "stream",
          "text": "[0, 1, 2, 3, 4, 5, 6, 7, 8, 9, 10, 11, 12, 13, 14, 15, 16, 17, 18, 19]\n",
          "name": "stdout"
        }
      ]
    },
    {
      "metadata": {
        "trusted": true
      },
      "cell_type": "code",
      "source": "# iterate through strings\nname = \"Mombasa Kenya\"\nfor letter in name:\n    print(letter)",
      "execution_count": 34,
      "outputs": [
        {
          "output_type": "stream",
          "text": "M\no\nm\nb\na\ns\na\n \nK\ne\nn\ny\na\n",
          "name": "stdout"
        }
      ]
    },
    {
      "metadata": {
        "trusted": true
      },
      "cell_type": "code",
      "source": "",
      "execution_count": null,
      "outputs": []
    }
  ],
  "metadata": {
    "kernelspec": {
      "name": "python3",
      "display_name": "Python 3",
      "language": "python"
    },
    "language_info": {
      "mimetype": "text/x-python",
      "nbconvert_exporter": "python",
      "name": "python",
      "file_extension": ".py",
      "version": "3.5.4",
      "pygments_lexer": "ipython3",
      "codemirror_mode": {
        "version": 3,
        "name": "ipython"
      }
    }
  },
  "nbformat": 4,
  "nbformat_minor": 2
}