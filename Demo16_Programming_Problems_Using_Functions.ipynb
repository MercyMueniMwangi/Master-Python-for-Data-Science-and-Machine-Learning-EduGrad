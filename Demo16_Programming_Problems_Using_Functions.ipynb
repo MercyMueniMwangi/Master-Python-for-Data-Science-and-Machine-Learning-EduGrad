{
  "cells": [
    {
      "metadata": {},
      "cell_type": "markdown",
      "source": "# Lets Practice With Functions"
    },
    {
      "metadata": {
        "trusted": true
      },
      "cell_type": "code",
      "source": "# Write a program to calculate the area of any circle. Pass in the radius as an input argument.\n\nimport math\n\ndef area(radius):\n    \n    return math.pi * radius * radius",
      "execution_count": 1,
      "outputs": []
    },
    {
      "metadata": {
        "trusted": true
      },
      "cell_type": "code",
      "source": "# area of a circle can also be calculated as follows\nimport math\ndef area(radius):\n    area = math.pi*radius*radius\n    print(\" The area of a acircle with radius: %s\" % (radius),\"is \",area)\n    \n    return area",
      "execution_count": 2,
      "outputs": []
    },
    {
      "metadata": {
        "trusted": true
      },
      "cell_type": "code",
      "source": "area(10)",
      "execution_count": 3,
      "outputs": [
        {
          "output_type": "stream",
          "text": " The area of a acircle with radius: 10 is  314.1592653589793\n",
          "name": "stdout"
        },
        {
          "output_type": "execute_result",
          "execution_count": 3,
          "data": {
            "text/plain": "314.1592653589793"
          },
          "metadata": {}
        }
      ]
    },
    {
      "metadata": {
        "trusted": true
      },
      "cell_type": "code",
      "source": "area(23.5)",
      "execution_count": 4,
      "outputs": [
        {
          "output_type": "stream",
          "text": " The area of a acircle with radius: 23.5 is  1734.9445429449634\n",
          "name": "stdout"
        },
        {
          "output_type": "execute_result",
          "execution_count": 4,
          "data": {
            "text/plain": "1734.9445429449634"
          },
          "metadata": {}
        }
      ]
    },
    {
      "metadata": {
        "trusted": true
      },
      "cell_type": "code",
      "source": "# Define a function which takes in a number as an input argument and returns a list which contains the\n# squares of all numbers starting from 1 to that number (included)\n\ndef list_of_squares(num):\n    \n    squares_list = []\n\n    for i in range(num + 1):\n        \n        squares_list.append(math.pow(i, 2))\n        \n    print(squares_list)    ",
      "execution_count": 5,
      "outputs": []
    },
    {
      "metadata": {
        "trusted": true
      },
      "cell_type": "code",
      "source": "#can also be done as\n# Define a function which takes in a number as an input argument and returns a list which contains the\n# squares of all numbers starting from 1 to that number (included)\ndef list_squares(number):\n    List= []\n    \n    for i in range(number+1):\n        square = math.pow(i,2)\n        List.append(square)\n    print(\"Our square list for number: %s\" %(number),\"is \", List)\n        \n    return List",
      "execution_count": 6,
      "outputs": []
    },
    {
      "metadata": {
        "trusted": true
      },
      "cell_type": "code",
      "source": "list_of_squares(5)",
      "execution_count": 7,
      "outputs": [
        {
          "output_type": "stream",
          "text": "[0.0, 1.0, 4.0, 9.0, 16.0, 25.0]\n",
          "name": "stdout"
        }
      ]
    },
    {
      "metadata": {
        "trusted": true
      },
      "cell_type": "code",
      "source": "list_squares(5)",
      "execution_count": 8,
      "outputs": [
        {
          "output_type": "stream",
          "text": "Our square list for number: 5 is  [0.0, 1.0, 4.0, 9.0, 16.0, 25.0]\n",
          "name": "stdout"
        },
        {
          "output_type": "execute_result",
          "execution_count": 8,
          "data": {
            "text/plain": "[0.0, 1.0, 4.0, 9.0, 16.0, 25.0]"
          },
          "metadata": {}
        }
      ]
    },
    {
      "metadata": {
        "trusted": true
      },
      "cell_type": "code",
      "source": "# Write a filter function which creates a new list with only the numbers from the original list which are\n# divisible by 5 but not divisible by 3\n\n\ndef filter_fn(num_list):\n    \n    filtered_list = []\n    \n    for num in num_list:\n        \n        if num % 5 == 0 and num % 3 != 0:\n            \n            filtered_list.append(num)\n            \n    return filtered_list",
      "execution_count": 9,
      "outputs": []
    },
    {
      "metadata": {
        "trusted": true
      },
      "cell_type": "code",
      "source": "filter_fn([2, 3, 5, 10, 15, 30, 35, 37])",
      "execution_count": 10,
      "outputs": [
        {
          "output_type": "execute_result",
          "execution_count": 10,
          "data": {
            "text/plain": "[5, 10, 35]"
          },
          "metadata": {}
        }
      ]
    },
    {
      "metadata": {
        "trusted": true
      },
      "cell_type": "code",
      "source": "# Write a function to take a number as an input and print that number of Fibonacci numbers 1, 1, 2, 3, 5, 8, 13 ....\n\ndef fib(num):\n\n    num_1 = 1\n    num_2 = 1\n    \n    while num > 0:\n        \n        print(num_1)\n        num = num - 1\n        \n        if num == 0:\n            break\n\n        print(num_2)\n        num = num - 1\n        \n        num_1 = num_1 + num_2\n        \n        num_2 = num_1 + num_2\n        \n",
      "execution_count": 11,
      "outputs": []
    },
    {
      "metadata": {
        "trusted": true
      },
      "cell_type": "code",
      "source": "fib(1)",
      "execution_count": 12,
      "outputs": [
        {
          "output_type": "stream",
          "text": "1\n",
          "name": "stdout"
        }
      ]
    },
    {
      "metadata": {
        "trusted": true
      },
      "cell_type": "code",
      "source": "fib(2)",
      "execution_count": 13,
      "outputs": [
        {
          "output_type": "stream",
          "text": "1\n1\n",
          "name": "stdout"
        }
      ]
    },
    {
      "metadata": {
        "trusted": true
      },
      "cell_type": "code",
      "source": "fib(3)",
      "execution_count": 14,
      "outputs": [
        {
          "output_type": "stream",
          "text": "1\n1\n2\n",
          "name": "stdout"
        }
      ]
    },
    {
      "metadata": {
        "trusted": true
      },
      "cell_type": "code",
      "source": "fib(4)",
      "execution_count": 15,
      "outputs": [
        {
          "output_type": "stream",
          "text": "1\n1\n2\n3\n",
          "name": "stdout"
        }
      ]
    },
    {
      "metadata": {
        "trusted": true
      },
      "cell_type": "code",
      "source": "fib(8)",
      "execution_count": 16,
      "outputs": [
        {
          "output_type": "stream",
          "text": "1\n1\n2\n3\n5\n8\n13\n21\n",
          "name": "stdout"
        }
      ]
    },
    {
      "metadata": {
        "trusted": true
      },
      "cell_type": "code",
      "source": "# Write a function to take in a list of girls and boys and find every possible girl-boy dance combinations\n# for a dance partnership\n\ndef dance_partners(girl_list, boy_list):\n    \n    for girl in girl_list:\n        for boy in boy_list:\n            print(girl, boy)\n                        ",
      "execution_count": 17,
      "outputs": []
    },
    {
      "metadata": {
        "trusted": true
      },
      "cell_type": "code",
      "source": "girl_list = ['Priya', 'Judy', 'Athira']\nboy_list = ['Abhay', 'Dev', 'Ubaid', 'Ayaz']\n\ndance_partners(girl_list, boy_list)",
      "execution_count": 18,
      "outputs": [
        {
          "output_type": "stream",
          "text": "Priya Abhay\nPriya Dev\nPriya Ubaid\nPriya Ayaz\nJudy Abhay\nJudy Dev\nJudy Ubaid\nJudy Ayaz\nAthira Abhay\nAthira Dev\nAthira Ubaid\nAthira Ayaz\n",
          "name": "stdout"
        }
      ]
    },
    {
      "metadata": {
        "trusted": true
      },
      "cell_type": "code",
      "source": "# Count the number of vowels in a sentence and return the result in a dictionary\n\ndef count_vowels(sentence:str) -> dict:\n    \n    vowels = ['a', 'e', 'i', 'o', 'u']\n    \n    vowel_count = {}\n    \n    for v in vowels:\n        vowel_count[v] = 0\n\n    for ch in sentence.lower():\n        \n        if ch in vowels:\n            vowel_count[ch] += 1\n            \n    return vowel_count        ",
      "execution_count": 19,
      "outputs": []
    },
    {
      "metadata": {
        "trusted": true
      },
      "cell_type": "code",
      "source": "# this can also be written as \n# Count the number of vowels in a sentence and return the result in a dictionary\ndef vowel(sentence):\n    sentence.lower\n    \n    vowel_count={}\n    vowels = [\"a\" ,\"e\" , \"i\" , \"o\", \"u\"]\n    \n    for v in vowels:\n        vowel_count[v] = 0 # initialize all vowel counts to zero\n    \n    for i in sentence:\n        if i in vowels:\n            vowel_count[i]+=1\n    return vowel_count\n    \n            ",
      "execution_count": 20,
      "outputs": []
    },
    {
      "metadata": {
        "trusted": true,
        "scrolled": true
      },
      "cell_type": "code",
      "source": "count_vowels('Today is a bright and sunny day!')",
      "execution_count": 21,
      "outputs": [
        {
          "output_type": "execute_result",
          "execution_count": 21,
          "data": {
            "text/plain": "{'a': 4, 'e': 0, 'i': 2, 'o': 1, 'u': 1}"
          },
          "metadata": {}
        }
      ]
    },
    {
      "metadata": {
        "trusted": true
      },
      "cell_type": "code",
      "source": "vowel('Today is a bright and sunny day!')",
      "execution_count": 22,
      "outputs": [
        {
          "output_type": "execute_result",
          "execution_count": 22,
          "data": {
            "text/plain": "{'a': 4, 'e': 0, 'i': 2, 'o': 1, 'u': 1}"
          },
          "metadata": {}
        }
      ]
    },
    {
      "metadata": {
        "trusted": true
      },
      "cell_type": "code",
      "source": "# Take as an input two sorted lists and merge them together into one sorted list. Preserve the original lists\n# the list has to be sorted first\n\ndef merge_lists(list_a, list_b):\n    \n    # sorting the list\n    sorted_list_a = sorted(list_a)\n    sorted_list_b = sorted(list_b)\n    \n    # initializing the indicies\n    index_a = 0\n    index_b = 0\n    \n    # initializing the final list\n    final_list = []\n    \n    #Getting the length of list a and b\n    len_a = len(sorted_list_a)\n    len_b = len(sorted_list_b)\n\n    # calculating the total length of the two lists\n    total_len = len_a + len_b\n    \n    # we need a while loop that takes care of a condition where one list is longer than the other\n    # first the loop is true when the final list length is less than the total list length\n    # two when the index of an element in a is less than the length of a\n    # also when the index of an element in a is less than the length of a\n    while len(final_list) < total_len and index_a < len_a and index_b < len_b:\n        \n        # Here we say if the element in list a say element in index 0 is less than that in index 0 of list b then\n        # append that to our final list and so on\n        if sorted_list_a[index_a] < sorted_list_b[index_b]:\n\n            final_list.append(sorted_list_a[index_a])\n            index_a += 1\n        #else if the element in list b say element in index 0 is less than that in index 0 of list a then\n        # append that to our final list and so on\n        else:\n            final_list.append(sorted_list_b[index_b])\n            index_b += 1\n    \n    # after looping through the first while loop then we need to take care of the lists that are longer than the others\n    # here the length of a is longer than the length of b \n    # So if an index in a is less than the length of a \n    if index_a < len_a:\n        # then we loop it over a while loop that is true if an index in a is less than the length of a\n        while index_a < len_a:\n            # then we append that index to the final list\n            final_list.append(sorted_list_a[index_a])\n            index_a += 1\n\n    # else if after looping through the first while loop then we need to take care of the lists that are longer than the others\n    # here the length of b is longer than the length of a \n    # But this time an index in b is less than the length of b \n    elif index_b < len_b:\n        # then we loop it over a while loop that is true if an index in b is less than the length of b\n        while index_b < len_b:\n            # then we append that index to the final list\n            final_list.append(sorted_list_b[index_b])\n            index_b += 1\n    \n    return final_list",
      "execution_count": 23,
      "outputs": []
    },
    {
      "metadata": {
        "trusted": true
      },
      "cell_type": "code",
      "source": "a = [3, 5, 1, 9, 22, 34, 11, 32, 56, 3,11,12] # length of 12\nb = [88, 34, 23, 45, 67, 76, 12, 99]# length of 8\n\nmerge_lists(a, b)",
      "execution_count": 24,
      "outputs": [
        {
          "output_type": "execute_result",
          "execution_count": 24,
          "data": {
            "text/plain": "[1, 3, 3, 5, 9, 11, 11, 12, 12, 22, 23, 32, 34, 34, 45, 56, 67, 76, 88, 99]"
          },
          "metadata": {}
        }
      ]
    },
    {
      "metadata": {
        "trusted": true
      },
      "cell_type": "code",
      "source": "",
      "execution_count": null,
      "outputs": []
    }
  ],
  "metadata": {
    "kernelspec": {
      "name": "python3",
      "display_name": "Python 3",
      "language": "python"
    },
    "language_info": {
      "mimetype": "text/x-python",
      "nbconvert_exporter": "python",
      "name": "python",
      "file_extension": ".py",
      "version": "3.5.4",
      "pygments_lexer": "ipython3",
      "codemirror_mode": {
        "version": 3,
        "name": "ipython"
      }
    }
  },
  "nbformat": 4,
  "nbformat_minor": 2
}