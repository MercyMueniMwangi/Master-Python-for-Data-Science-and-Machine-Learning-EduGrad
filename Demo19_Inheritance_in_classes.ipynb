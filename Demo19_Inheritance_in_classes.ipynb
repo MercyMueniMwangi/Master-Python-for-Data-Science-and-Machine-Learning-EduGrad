{
  "cells": [
    {
      "metadata": {},
      "cell_type": "markdown",
      "source": "# Inheritance\nThis is used to model Is-A relationships. Eg a jeep __is a__ vehicle, a pajero __is a__ vehicle, a lorry __is a__ vehicle, a bus __is a__ vehicle. All these __is a__ vehicle can be modelled in python using Inheritance\n"
    },
    {
      "metadata": {},
      "cell_type": "markdown",
      "source": "## All these ways of declaring a class are the same in Python 3"
    },
    {
      "metadata": {
        "trusted": true
      },
      "cell_type": "code",
      "source": "class Shape:\n    pass # pass tell python not to execute the code but just pass it",
      "execution_count": 1,
      "outputs": []
    },
    {
      "metadata": {
        "trusted": true
      },
      "cell_type": "code",
      "source": "class Shape():\n    pass",
      "execution_count": 2,
      "outputs": []
    },
    {
      "metadata": {
        "trusted": true
      },
      "cell_type": "code",
      "source": "class Shape(object):\n    pass",
      "execution_count": 3,
      "outputs": []
    },
    {
      "metadata": {},
      "cell_type": "markdown",
      "source": "An example of inheritance in python"
    },
    {
      "metadata": {
        "trusted": true
      },
      "cell_type": "code",
      "source": "# here we use\nclass Shape:\n    \n    def __init__(self, shape_type):\n        self.__type = shape_type\n    \n    def get_area(self): #since in each shape we calculate the area differently\n        pass # we pass\n    \n    def get_perimeter(self):#since in each shape we calculate the perimeter differently\n        pass # we pass",
      "execution_count": 4,
      "outputs": []
    },
    {
      "metadata": {
        "trusted": true
      },
      "cell_type": "code",
      "source": "# lets instantiate a shape of type circle\ns = Shape('circle')",
      "execution_count": 5,
      "outputs": []
    },
    {
      "metadata": {
        "trusted": true
      },
      "cell_type": "code",
      "source": "# nothing is printed because these have no code within them\ns.get_area()",
      "execution_count": 6,
      "outputs": []
    },
    {
      "metadata": {
        "trusted": true
      },
      "cell_type": "code",
      "source": "s.get_perimeter()",
      "execution_count": 7,
      "outputs": []
    },
    {
      "metadata": {
        "trusted": true
      },
      "cell_type": "code",
      "source": "import math\n\nclass Circle(Shape): #this means Circle is-a Shape\n                     # that is Circle inherits from shape\n    \n    def __init__(self, radius):# the init method of the circle class\n        Shape.__init__(self, 'circle') #can call the init method of the shape class\n        \n        self.__radius = radius\n        \n    def get_area(self):\n        return math.pi * self.__radius * self.__radius\n    \n    def get_perimeter(self):\n        return 2 * math.pi * self.__radius",
      "execution_count": 8,
      "outputs": []
    },
    {
      "metadata": {
        "trusted": true
      },
      "cell_type": "code",
      "source": "c = Circle(10)",
      "execution_count": 9,
      "outputs": []
    },
    {
      "metadata": {
        "trusted": true
      },
      "cell_type": "code",
      "source": "c.get_area()",
      "execution_count": 10,
      "outputs": [
        {
          "output_type": "execute_result",
          "execution_count": 10,
          "data": {
            "text/plain": "314.1592653589793"
          },
          "metadata": {}
        }
      ]
    },
    {
      "metadata": {
        "trusted": true
      },
      "cell_type": "code",
      "source": "c.get_perimeter()",
      "execution_count": 11,
      "outputs": [
        {
          "output_type": "execute_result",
          "execution_count": 11,
          "data": {
            "text/plain": "62.83185307179586"
          },
          "metadata": {}
        }
      ]
    },
    {
      "metadata": {},
      "cell_type": "markdown",
      "source": "When we instantiate the circle the get_area and the get_perimeter functions invoke the coresponding code which is within the circle class. It does not invoke the function in the shape class even though a circle is a shape and the shape class has the same get_perimeter and get_area functions.\nThe correct methods from the derived class are called __ at runtime__. C knows it is of type circle this is runtime __Polymorphism__"
    },
    {
      "metadata": {
        "trusted": true
      },
      "cell_type": "code",
      "source": "# lets get the area and perimeter of a square\nclass Square(Shape):\n    \n    def __init__(self, side):\n        Shape.__init__(self, 'square')\n        \n        self.__side = side\n        \n    def get_area(self):\n        return self.__side * self.__side\n    \n    def get_perimeter(self):\n        return 4 * self.__side",
      "execution_count": 12,
      "outputs": []
    },
    {
      "metadata": {
        "trusted": true
      },
      "cell_type": "code",
      "source": "s = Square(10)",
      "execution_count": 13,
      "outputs": []
    },
    {
      "metadata": {
        "trusted": true
      },
      "cell_type": "code",
      "source": "s.get_area()",
      "execution_count": 14,
      "outputs": [
        {
          "output_type": "execute_result",
          "execution_count": 14,
          "data": {
            "text/plain": "100"
          },
          "metadata": {}
        }
      ]
    },
    {
      "metadata": {
        "trusted": true
      },
      "cell_type": "code",
      "source": "s.get_perimeter()",
      "execution_count": 15,
      "outputs": [
        {
          "output_type": "execute_result",
          "execution_count": 15,
          "data": {
            "text/plain": "40"
          },
          "metadata": {}
        }
      ]
    },
    {
      "metadata": {},
      "cell_type": "markdown",
      "source": "## Base classes hold the information that is common to all derived classes\n\n"
    },
    {
      "metadata": {
        "trusted": true
      },
      "cell_type": "code",
      "source": "class Shape:\n    \n    \n    def __init__(self, shape_type):\n        self.__type = shape_type\n        self.__color = 'red' # an  example of base class\n                             # that is the color can be associated with any shape\n                             #that is it does not change\n    def set_color(self, color): # to update the color\n        self.__color = color\n    \n    def get_color(self):\n        return self.__color\n        \n    def get_area(self):\n        pass\n    \n    def get_perimeter(self):\n        pass",
      "execution_count": 16,
      "outputs": []
    },
    {
      "metadata": {
        "trusted": true
      },
      "cell_type": "code",
      "source": "class Circle(Shape):\n    \n    def __init__(self, radius):\n        Shape.__init__(self, 'circle')\n        \n        self.__radius = radius\n        \n    def get_area(self):\n        return math.pi * self.__radius * self.__radius\n    \n    def get_perimeter(self):\n        return 2 * math.pi * self.__radius",
      "execution_count": 17,
      "outputs": []
    },
    {
      "metadata": {
        "trusted": true
      },
      "cell_type": "code",
      "source": "c = Circle(12)",
      "execution_count": 18,
      "outputs": []
    },
    {
      "metadata": {
        "trusted": true
      },
      "cell_type": "code",
      "source": "c.set_color('blue')",
      "execution_count": 19,
      "outputs": []
    },
    {
      "metadata": {
        "trusted": true
      },
      "cell_type": "code",
      "source": "c.get_color()",
      "execution_count": 20,
      "outputs": [
        {
          "output_type": "execute_result",
          "execution_count": 20,
          "data": {
            "text/plain": "'blue'"
          },
          "metadata": {}
        }
      ]
    },
    {
      "metadata": {
        "trusted": true
      },
      "cell_type": "code",
      "source": "",
      "execution_count": null,
      "outputs": []
    }
  ],
  "metadata": {
    "kernelspec": {
      "name": "python3",
      "display_name": "Python 3",
      "language": "python"
    },
    "language_info": {
      "mimetype": "text/x-python",
      "nbconvert_exporter": "python",
      "name": "python",
      "pygments_lexer": "ipython3",
      "version": "3.5.4",
      "file_extension": ".py",
      "codemirror_mode": {
        "version": 3,
        "name": "ipython"
      }
    }
  },
  "nbformat": 4,
  "nbformat_minor": 2
}