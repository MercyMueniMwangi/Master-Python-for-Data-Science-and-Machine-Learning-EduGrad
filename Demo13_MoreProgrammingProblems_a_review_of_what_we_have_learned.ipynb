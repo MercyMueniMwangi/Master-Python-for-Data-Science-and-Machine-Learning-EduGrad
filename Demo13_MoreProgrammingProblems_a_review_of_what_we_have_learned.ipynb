{
 "cells": [
  {
   "cell_type": "code",
   "execution_count": 1,
   "metadata": {},
   "outputs": [
    {
     "name": "stdout",
     "output_type": "stream",
     "text": [
      "Enter a number: 5\n",
      "Factorial:  120\n"
     ]
    }
   ],
   "source": [
    "# Find the factorial of a number\n",
    "# a factorial of 5 is 5*4*3*2*1 =120\n",
    "\n",
    "num = int(input('Enter a number: '))\n",
    "\n",
    "factorial = 1 # we initialize factorial to one since any number multiplied by 0 is zero\n",
    "\n",
    "while num > 0: # our number should be greater than 0\n",
    "    \n",
    "    factorial *= num \n",
    "    \n",
    "    num -= 1 # each alteration we reduce our number by 1\n",
    "    \n",
    "print('Factorial: ', factorial)    "
   ]
  },
  {
   "cell_type": "code",
   "execution_count": 2,
   "metadata": {},
   "outputs": [
    {
     "name": "stdout",
     "output_type": "stream",
     "text": [
      "Enter a number: 40\n",
      "1\n",
      "2\n",
      "4\n",
      "5\n",
      "8\n",
      "10\n",
      "20\n",
      "40\n"
     ]
    }
   ],
   "source": [
    "# Find all the factors of a number\n",
    "\n",
    "num = int(input('Enter a number: '))\n",
    "\n",
    "factor = 1\n",
    "\n",
    "while factor <= num: # our factor should always br small than the number\n",
    "    \n",
    "    if num % factor == 0: # num / factor should give a whole number\n",
    "        print(factor)\n",
    "    \n",
    "    factor += 1 # stoping criteria"
   ]
  },
  {
   "cell_type": "code",
   "execution_count": 3,
   "metadata": {},
   "outputs": [
    {
     "name": "stdout",
     "output_type": "stream",
     "text": [
      "Enter a number: 40\n",
      "1\n",
      "2\n",
      "4\n",
      "5\n",
      "8\n",
      "10\n",
      "20\n",
      "40\n"
     ]
    }
   ],
   "source": [
    "# Find all the factors of a number (optimized)\n",
    "\n",
    "num = int(input('Enter a number: '))\n",
    "\n",
    "factor = 1\n",
    "\n",
    "while factor <= num / 2:# as 2 is the smallest possible divisor, we only need to check for numbers up to n/2. \n",
    "                        # If this value is reached, we can skip and assume, that the rest of n will be our last prime factor\n",
    "                        # this is now optimization. we reduce the number of loopings\n",
    "    \n",
    "    if num % factor == 0:\n",
    "        print(factor)\n",
    "    \n",
    "    factor += 1\n",
    "\n",
    "print(num)    "
   ]
  },
  {
   "cell_type": "code",
   "execution_count": 4,
   "metadata": {},
   "outputs": [
    {
     "name": "stdout",
     "output_type": "stream",
     "text": [
      "Enter the number: 13\n",
      "The number is prime!\n"
     ]
    }
   ],
   "source": [
    "# Find whether an input number is prime\n",
    "\n",
    "num = int(input('Enter the number: '))\n",
    "\n",
    "factor = 1\n",
    "prime = True #This means for all values entered they are considered to be prime until proven otherwise\n",
    "\n",
    "while factor <= num / 2:# as 2 is the smallest possible divisor, we only need to check for numbers up to n/2. \n",
    "                        # If this value is reached, we can skip and assume, that the rest of n will be our last prime factor\n",
    "    factor += 1 \n",
    "    \n",
    "    if num % factor == 0:\n",
    "        print('The number is not prime, it is divisible by', factor)\n",
    "        prime = False # If the if condition is met then prime is false and has been proven otherwise\n",
    "        break\n",
    "\n",
    "        \n",
    "if prime:     \n",
    "    print('The number is prime!')  "
   ]
  },
  {
   "cell_type": "code",
   "execution_count": 5,
   "metadata": {},
   "outputs": [
    {
     "name": "stdout",
     "output_type": "stream",
     "text": [
      "Enter the number: 56\n",
      "The number in the 10s place:  6\n"
     ]
    }
   ],
   "source": [
    "# Extract the number in the 10s place from the input number\n",
    "\n",
    "num = int(input('Enter the number: '))\n",
    "\n",
    "digit = num % 10 # this takes a number then divides by 10 then its reminder becomes the digit\n",
    "\n",
    "print('The number in the 10s place: ', digit)"
   ]
  },
  {
   "cell_type": "code",
   "execution_count": 6,
   "metadata": {},
   "outputs": [
    {
     "name": "stdout",
     "output_type": "stream",
     "text": [
      "Enter the number: 5222\n",
      "The value of num is now:  522\n",
      "The value of num is now:  52\n",
      "The value of num is now:  5\n",
      "The value of num is now:  0\n"
     ]
    },
    {
     "data": {
      "text/plain": [
       "[2, 2, 2, 5]"
      ]
     },
     "execution_count": 6,
     "metadata": {},
     "output_type": "execute_result"
    }
   ],
   "source": [
    "# Extract the individual digits in any number and store in a list\n",
    "\n",
    "num = int(input('Enter the number: '))\n",
    "\n",
    "digit_list = [] # we initialize a list because we want to deduce a list\n",
    "\n",
    "while num > 0:\n",
    "    \n",
    "    digit = num % 10 # this helps us deduce the last element of a number\n",
    "                     # this takes a number then divides by 10 then its reminder becomes the digit\n",
    "    \n",
    "    digit_list.append(digit) # each number we get we add to our list \n",
    "    \n",
    "    num = num // 10 #Divides and returns the integer value of the quotient. It dumps the digits after the decimal.\n",
    "    \n",
    "    print('The value of num is now: ', num)\n",
    "\n",
    "digit_list    "
   ]
  },
  {
   "cell_type": "code",
   "execution_count": 7,
   "metadata": {},
   "outputs": [
    {
     "name": "stdout",
     "output_type": "stream",
     "text": [
      "Enter the number: 654321\n",
      "The value of reversed_num is now:  1\n",
      "The value of num is now:  65432\n",
      "The value of reversed_num is now:  12\n",
      "The value of num is now:  6543\n",
      "The value of reversed_num is now:  123\n",
      "The value of num is now:  654\n",
      "The value of reversed_num is now:  1234\n",
      "The value of num is now:  65\n",
      "The value of reversed_num is now:  12345\n",
      "The value of num is now:  6\n",
      "The value of reversed_num is now:  123456\n",
      "The value of num is now:  0\n",
      "\n",
      "Final reversed number:  123456\n"
     ]
    }
   ],
   "source": [
    "# Reverse the digits in a number\n",
    "\n",
    "num = int(input('Enter the number: ')) # say 56\n",
    "\n",
    "reversed_num = 0 # we initialize at 0 becaouse we need a number\n",
    "\n",
    "while num > 0:\n",
    "    \n",
    "    digit = num % 10 # helps deduce the last element in that number which is 6\n",
    "    \n",
    "    reversed_num = reversed_num * 10 # when we get the digit we multiply by 10 which will be 0*10 = 0\n",
    "\n",
    "    reversed_num = reversed_num + digit # our initial reversed number is 0 so we add 6\n",
    "      \n",
    "    num = num // 10 # in the next iteration our number will be 56//10 which is 5\n",
    "    \n",
    "    print('The value of reversed_num is now: ', reversed_num)\n",
    "    print('The value of num is now: ', num)\n",
    "\n",
    "print('\\nFinal reversed number: ', reversed_num)"
   ]
  },
  {
   "cell_type": "code",
   "execution_count": 8,
   "metadata": {},
   "outputs": [
    {
     "data": {
      "text/plain": [
       "['Deb', 'Athira', 'Abhay', 'Viren']"
      ]
     },
     "execution_count": 8,
     "metadata": {},
     "output_type": "execute_result"
    }
   ],
   "source": [
    "# Write a program which operates on a list which may contain duplicates. It outputs a list with no duplicates\n",
    "\n",
    "dupe_list = ['Deb', 'Athira', 'Abhay', 'Athira', 'Viren', 'Deb', 'Abhay']\n",
    "\n",
    "unique_list = [] # because we need a list we initialize one\n",
    "\n",
    "for name in dupe_list:\n",
    "    \n",
    "    if name in unique_list:\n",
    "        continue # if the number is in the unique_list already skip that and go on to check the next\n",
    "        \n",
    "    unique_list.append(name) # this adds the unique elements in the dupe_list to our unique_list\n",
    "    \n",
    "unique_list    "
   ]
  },
  {
   "cell_type": "code",
   "execution_count": 9,
   "metadata": {},
   "outputs": [
    {
     "data": {
      "text/plain": [
       "[0, 1, 2, 3, 5, 7, 8, 8, 11, 15, 22]"
      ]
     },
     "execution_count": 9,
     "metadata": {},
     "output_type": "execute_result"
    }
   ],
   "source": [
    "# Write a program which takes a list of numbers and creates a new list with the list in sorted order\n",
    "\n",
    "unsorted_list = [7, 8, 2, 0, 3, 5, 8, 1, 22, 15, 11]\n",
    "\n",
    "sorted_list = []\n",
    "\n",
    "while len(unsorted_list) > 0:\n",
    "    \n",
    "    min_value = unsorted_list[0] # we assume the least value or minimum value is the first element in the list\n",
    "                                 # our first element is 7\n",
    "    \n",
    "    for num in unsorted_list:\n",
    "        if num < min_value: # we use the if block to find the minimum value in that list\n",
    "            min_value = num # after looping we find it is 0\n",
    "            \n",
    "    unsorted_list.remove(min_value) # we remove zero in our unsorted_list \n",
    "                                    # our list noe becomes [7, 8, 2, 3, 5, 8, 1, 22, 15, 11]\n",
    "\n",
    "    sorted_list.append(min_value)  # we then append 0 to our sorted_list  which now becomes [0]\n",
    "                                   # this process continues until the unsorted_list length is 0 \n",
    "    \n",
    "sorted_list"
   ]
  },
  {
   "cell_type": "code",
   "execution_count": 10,
   "metadata": {},
   "outputs": [
    {
     "data": {
      "text/plain": [
       "['Google', 'Tableau', 'Microsoft', 'Apple', 'Intel']"
      ]
     },
     "execution_count": 10,
     "metadata": {},
     "output_type": "execute_result"
    }
   ],
   "source": [
    "# Write a program to swap two elements in a list\n",
    "# say swap element in index 1 with element in index 3\n",
    "\n",
    "\n",
    "tech_companies = ['Google', 'Apple', 'Microsoft', 'Tableau', 'Intel']\n",
    "\n",
    "i = 1 # Apple\n",
    "j = 3 # Tableau\n",
    "\n",
    "temp = tech_companies[i] # we have to a dummy holder to hold the value of tech_company in index 1  Apple\n",
    "tech_companies[i] = tech_companies[j] # we update  index 1 with Tableau\n",
    "tech_companies[j] = temp # then using our dummy holder we update index 3 with Tableau\n",
    "\n",
    "tech_companies"
   ]
  },
  {
   "cell_type": "code",
   "execution_count": 11,
   "metadata": {},
   "outputs": [
    {
     "name": "stdout",
     "output_type": "stream",
     "text": [
      "Start:  [7, 8, 2, 0, 3, 5, 8, 1, 22, 15, 11]\n",
      "[0, 8, 7, 2, 3, 5, 8, 1, 22, 15, 11]\n",
      "[0, 1, 8, 7, 3, 5, 8, 2, 22, 15, 11]\n",
      "[0, 1, 2, 8, 7, 5, 8, 3, 22, 15, 11]\n",
      "[0, 1, 2, 3, 8, 7, 8, 5, 22, 15, 11]\n",
      "[0, 1, 2, 3, 5, 8, 8, 7, 22, 15, 11]\n",
      "[0, 1, 2, 3, 5, 7, 8, 8, 22, 15, 11]\n",
      "[0, 1, 2, 3, 5, 7, 8, 8, 22, 15, 11]\n",
      "[0, 1, 2, 3, 5, 7, 8, 8, 22, 15, 11]\n",
      "[0, 1, 2, 3, 5, 7, 8, 8, 11, 22, 15]\n",
      "[0, 1, 2, 3, 5, 7, 8, 8, 11, 15, 22]\n",
      "[0, 1, 2, 3, 5, 7, 8, 8, 11, 15, 22]\n"
     ]
    }
   ],
   "source": [
    "# Write a program to sort a list in place\n",
    "\n",
    "num_list = [7, 8, 2, 0, 3, 5, 8, 1, 22, 15, 11]\n",
    "\n",
    "unsorted_index = 0\n",
    "\n",
    "print('Start: ', num_list)\n",
    "while unsorted_index < len(num_list):\n",
    "    \n",
    "    for i in range(unsorted_index, len(num_list)):\n",
    "\n",
    "        if num_list[i] < num_list[unsorted_index]:\n",
    "\n",
    "            # Swap the numbers in the 2 positions\n",
    "            temp = num_list[unsorted_index]\n",
    "            num_list[unsorted_index] = num_list[i]\n",
    "            num_list[i] = temp\n",
    "    \n",
    "    print(num_list)    \n",
    "    unsorted_index += 1"
   ]
  },
  {
   "cell_type": "code",
   "execution_count": null,
   "metadata": {},
   "outputs": [],
   "source": []
  }
 ],
 "metadata": {
  "kernelspec": {
   "display_name": "Python 3",
   "language": "python",
   "name": "python3"
  },
  "language_info": {
   "codemirror_mode": {
    "name": "ipython",
    "version": 3
   },
   "file_extension": ".py",
   "mimetype": "text/x-python",
   "name": "python",
   "nbconvert_exporter": "python",
   "pygments_lexer": "ipython3",
   "version": "3.5.4"
  }
 },
 "nbformat": 4,
 "nbformat_minor": 2
}
