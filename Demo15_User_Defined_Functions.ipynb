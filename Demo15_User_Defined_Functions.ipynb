{
  "cells": [
    {
      "metadata": {},
      "cell_type": "markdown",
      "source": "# User Defined Functions\nThis enables one to write a code once and re use it multiple times. That is define your own function by writing a code that can be re used to avoid reimplementing the same thing.\n#### Function Syntax\ndef function():\n    print(something)\n    \n#### To call a function\nfunction()\n#### Terminologies\n1. Function Defination: Specify a function name and code within the function\n2. Function Invocation: Call a function by name to execute the code within it\n3. Input arguement: Information that you pass into the function when invocking it. Note: No limit to the number of input arguements\n4. Global Scope and variables: Variables defined outside the function\n5. Local Scope and variables: Variables defined and only valid within inside the function.\n"
    },
    {
      "metadata": {
        "trusted": true
      },
      "cell_type": "code",
      "source": "# len() is an inbuilt function\nlen('Hello')",
      "execution_count": 1,
      "outputs": [
        {
          "output_type": "execute_result",
          "execution_count": 1,
          "data": {
            "text/plain": "5"
          },
          "metadata": {}
        }
      ]
    },
    {
      "metadata": {
        "trusted": true
      },
      "cell_type": "code",
      "source": "# function syntax\ndef print_something(): # print_something is the name of our function\n    print('something') # when we call the fuction something is printed out",
      "execution_count": 2,
      "outputs": []
    },
    {
      "metadata": {
        "trusted": true
      },
      "cell_type": "code",
      "source": "print_something()# calling the function",
      "execution_count": 3,
      "outputs": [
        {
          "output_type": "stream",
          "text": "something\n",
          "name": "stdout"
        }
      ]
    },
    {
      "metadata": {},
      "cell_type": "markdown",
      "source": "## Functions with input arguments"
    },
    {
      "metadata": {
        "trusted": true
      },
      "cell_type": "code",
      "source": "def print_text(text): # text is the input function\n    print(text) # every time we call the function the text specified is printed out",
      "execution_count": 4,
      "outputs": []
    },
    {
      "metadata": {
        "trusted": true
      },
      "cell_type": "code",
      "source": "print_text('Hello World!') # this is how we call a function with an input function\n                           # That is it gives us freedom to print out any text without necessarily building a number of codes each time\n                           # print_text() becomes our function",
      "execution_count": 5,
      "outputs": [
        {
          "output_type": "stream",
          "text": "Hello World!\n",
          "name": "stdout"
        }
      ]
    },
    {
      "metadata": {
        "trusted": true
      },
      "cell_type": "code",
      "source": "print_text('My dogs are the cutest!')# we can even print a text",
      "execution_count": 6,
      "outputs": [
        {
          "output_type": "stream",
          "text": "My dogs are the cutest!\n",
          "name": "stdout"
        }
      ]
    },
    {
      "metadata": {
        "trusted": true
      },
      "cell_type": "code",
      "source": "def add_numbers(a, b): # a fucntion with multiple input arguements. Here our input arguements are a and b\n    print('Sum: ', a + b) # our function sums a and b",
      "execution_count": 7,
      "outputs": []
    },
    {
      "metadata": {
        "trusted": true
      },
      "cell_type": "code",
      "source": "add_numbers(11, 22) #this is how we call the function with the two inputs\n                    # we can add any two values without necesarily re writting the code",
      "execution_count": 8,
      "outputs": [
        {
          "output_type": "stream",
          "text": "Sum:  33\n",
          "name": "stdout"
        }
      ]
    },
    {
      "metadata": {
        "trusted": true
      },
      "cell_type": "code",
      "source": "add_numbers(23.4, 3.1)",
      "execution_count": 9,
      "outputs": [
        {
          "output_type": "stream",
          "text": "Sum:  26.5\n",
          "name": "stdout"
        }
      ]
    },
    {
      "metadata": {
        "trusted": true
      },
      "cell_type": "code",
      "source": "# Important to note this\na = 10\nb = 20\n\ndef add(x, y):\n    print('Addition: ', a + b) # here we have specified that this function should only add a and b\n                               # we already specified a and b value \n                               # each time we call this fucnction it will add the values of a and b specified above\n                               # unless the values are changed\n                               # to rectify this we should use the input arguements to write a reusable code\n                               # Here we should have used x+y instead of a +b",
      "execution_count": 10,
      "outputs": []
    },
    {
      "metadata": {
        "trusted": true
      },
      "cell_type": "code",
      "source": "add(10, 20)",
      "execution_count": 11,
      "outputs": [
        {
          "output_type": "stream",
          "text": "Addition:  30\n",
          "name": "stdout"
        }
      ]
    },
    {
      "metadata": {
        "trusted": true
      },
      "cell_type": "code",
      "source": "# this becomes an error\nadd(12, 30)",
      "execution_count": 12,
      "outputs": [
        {
          "output_type": "stream",
          "text": "Addition:  30\n",
          "name": "stdout"
        }
      ]
    },
    {
      "metadata": {
        "trusted": true
      },
      "cell_type": "code",
      "source": "def subtract(x, y):\n    print('Subtraction: ', x - y) ",
      "execution_count": 13,
      "outputs": []
    },
    {
      "metadata": {
        "trusted": true
      },
      "cell_type": "code",
      "source": "subtract(23, 12)",
      "execution_count": 14,
      "outputs": [
        {
          "output_type": "stream",
          "text": "Subtraction:  11\n",
          "name": "stdout"
        }
      ]
    },
    {
      "metadata": {
        "trusted": true
      },
      "cell_type": "code",
      "source": "# we can also specify assign value to variables then use these variable to execute/invock our function\na = 34\nb = 12\n\nsubtract(a, b)",
      "execution_count": 15,
      "outputs": [
        {
          "output_type": "stream",
          "text": "Subtraction:  22\n",
          "name": "stdout"
        }
      ]
    },
    {
      "metadata": {
        "trusted": true
      },
      "cell_type": "code",
      "source": "result = subtract(a, 10)",
      "execution_count": 16,
      "outputs": [
        {
          "output_type": "stream",
          "text": "Subtraction:  24\n",
          "name": "stdout"
        }
      ]
    },
    {
      "metadata": {
        "trusted": true
      },
      "cell_type": "code",
      "source": "result # we did not specify a return value so this won't be executed and will be returned as a nonetype\n       # Return values are explained below",
      "execution_count": 17,
      "outputs": []
    },
    {
      "metadata": {
        "trusted": true
      },
      "cell_type": "code",
      "source": "type(result)# Nonetype means the variable holds nothing",
      "execution_count": 18,
      "outputs": [
        {
          "output_type": "execute_result",
          "execution_count": 18,
          "data": {
            "text/plain": "NoneType"
          },
          "metadata": {}
        }
      ]
    },
    {
      "metadata": {},
      "cell_type": "markdown",
      "source": "## Functions with return values\nA return statement returns values from the function"
    },
    {
      "metadata": {
        "trusted": true
      },
      "cell_type": "code",
      "source": "def subtract(x, y):\n    result = x - y\n    \n    print('Subtraction: ', result)\n    \n    return result # return statement. This ensures that the fuction has a return value",
      "execution_count": 19,
      "outputs": []
    },
    {
      "metadata": {
        "trusted": true
      },
      "cell_type": "code",
      "source": "r = subtract(12, 6)",
      "execution_count": 20,
      "outputs": [
        {
          "output_type": "stream",
          "text": "Subtraction:  6\n",
          "name": "stdout"
        }
      ]
    },
    {
      "metadata": {
        "trusted": true
      },
      "cell_type": "code",
      "source": "r",
      "execution_count": 21,
      "outputs": [
        {
          "output_type": "execute_result",
          "execution_count": 21,
          "data": {
            "text/plain": "6"
          },
          "metadata": {}
        }
      ]
    },
    {
      "metadata": {},
      "cell_type": "markdown",
      "source": "## Named arguments to a function"
    },
    {
      "metadata": {
        "trusted": true
      },
      "cell_type": "code",
      "source": "def fn_with_many_arguments(a, b, c, d, e): # a function with five input arguements\n    \n    result = a + b - c * d / e #Note: the function defination makes use of the five input arguements\n    \n    return result",
      "execution_count": 22,
      "outputs": []
    },
    {
      "metadata": {
        "trusted": true
      },
      "cell_type": "code",
      "source": "fn_with_many_arguments(2, 3, 5, 6) # if we invoke a fuction with only 4 variable it will return an error\n                                   # TypeError: fn_with_many_arguments() missing 1 required positional argument: 'e'",
      "execution_count": 23,
      "outputs": [
        {
          "output_type": "error",
          "ename": "TypeError",
          "evalue": "fn_with_many_arguments() missing 1 required positional argument: 'e'",
          "traceback": [
            "\u001b[0;31m---------------------------------------------------------------------------\u001b[0m",
            "\u001b[0;31mTypeError\u001b[0m                                 Traceback (most recent call last)",
            "\u001b[0;32m<ipython-input-23-14906af2c193>\u001b[0m in \u001b[0;36m<module>\u001b[0;34m()\u001b[0m\n\u001b[0;32m----> 1\u001b[0;31m \u001b[0mfn_with_many_arguments\u001b[0m\u001b[0;34m(\u001b[0m\u001b[0;36m2\u001b[0m\u001b[0;34m,\u001b[0m \u001b[0;36m3\u001b[0m\u001b[0;34m,\u001b[0m \u001b[0;36m5\u001b[0m\u001b[0;34m,\u001b[0m \u001b[0;36m6\u001b[0m\u001b[0;34m)\u001b[0m \u001b[0;31m# if we invoke a fuction with only 4 variable it will return an error\u001b[0m\u001b[0;34m\u001b[0m\u001b[0m\n\u001b[0m\u001b[1;32m      2\u001b[0m                                    \u001b[0;31m# TypeError: fn_with_many_arguments() missing 1 required positional argument: 'e'\u001b[0m\u001b[0;34m\u001b[0m\u001b[0;34m\u001b[0m\u001b[0m\n",
            "\u001b[0;31mTypeError\u001b[0m: fn_with_many_arguments() missing 1 required positional argument: 'e'"
          ]
        }
      ]
    },
    {
      "metadata": {
        "trusted": true
      },
      "cell_type": "code",
      "source": "# we can specify also call a function and specify the values of each arguemnet\n# That is We can specify the corresponding value of an arguement in python function.\n#fn_with_many_arguments(a=2, b=3, c=5, d=6, e=2) == fn_with_many_arguments(2,3,5,6,2)\nfn_with_many_arguments(a=2, b=3, c=5, d=6, e=2)",
      "execution_count": 24,
      "outputs": [
        {
          "output_type": "execute_result",
          "execution_count": 24,
          "data": {
            "text/plain": "-10.0"
          },
          "metadata": {}
        }
      ]
    },
    {
      "metadata": {
        "trusted": true
      },
      "cell_type": "code",
      "source": "fn_with_many_arguments(2,3,5,6,2)",
      "execution_count": 25,
      "outputs": [
        {
          "output_type": "execute_result",
          "execution_count": 25,
          "data": {
            "text/plain": "-10.0"
          },
          "metadata": {}
        }
      ]
    },
    {
      "metadata": {},
      "cell_type": "markdown",
      "source": "## Default arguments to a function"
    },
    {
      "metadata": {
        "trusted": true
      },
      "cell_type": "code",
      "source": "def print_num_times(name, num=1): # This function has a default arguement num=1. \n                                  #This means even if we dont specify the value of arguement num python assumes num=1\n\n    for i in range(num): # for loop in function\n        print(name)",
      "execution_count": 26,
      "outputs": []
    },
    {
      "metadata": {
        "trusted": true
      },
      "cell_type": "code",
      "source": "print('Pranoti')",
      "execution_count": 27,
      "outputs": [
        {
          "output_type": "stream",
          "text": "Pranoti\n",
          "name": "stdout"
        }
      ]
    },
    {
      "metadata": {
        "trusted": true
      },
      "cell_type": "code",
      "source": "print_num_times('Yukti', 6) # we can also specify the value of the default arguement say 6",
      "execution_count": 28,
      "outputs": [
        {
          "output_type": "stream",
          "text": "Yukti\nYukti\nYukti\nYukti\nYukti\nYukti\n",
          "name": "stdout"
        }
      ]
    },
    {
      "metadata": {
        "trusted": true
      },
      "cell_type": "code",
      "source": "# we can have a function with more than one default arguement\ndef greet(name, greeting=\"Hello\", num_times=1):\n\n    for i in range(num_times):\n        print(greeting, name)",
      "execution_count": 29,
      "outputs": []
    },
    {
      "metadata": {
        "trusted": true
      },
      "cell_type": "code",
      "source": "greet('Akash')",
      "execution_count": 30,
      "outputs": [
        {
          "output_type": "stream",
          "text": "Hello Akash\n",
          "name": "stdout"
        }
      ]
    },
    {
      "metadata": {
        "trusted": true
      },
      "cell_type": "code",
      "source": "greet('Akash', greeting='Namaste') # specifying the value of greeting instead of using the default",
      "execution_count": 31,
      "outputs": [
        {
          "output_type": "stream",
          "text": "Namaste Akash\n",
          "name": "stdout"
        }
      ]
    },
    {
      "metadata": {
        "trusted": true
      },
      "cell_type": "code",
      "source": "greet('Akash', num_times=3)",
      "execution_count": 32,
      "outputs": [
        {
          "output_type": "stream",
          "text": "Hello Akash\nHello Akash\nHello Akash\n",
          "name": "stdout"
        }
      ]
    },
    {
      "metadata": {
        "trusted": true
      },
      "cell_type": "code",
      "source": "greet('Akash', greeting='Namaste', num_times=3) # specifying both the value of greeting and number of times it should be printed",
      "execution_count": 33,
      "outputs": [
        {
          "output_type": "stream",
          "text": "Namaste Akash\nNamaste Akash\nNamaste Akash\n",
          "name": "stdout"
        }
      ]
    },
    {
      "metadata": {
        "trusted": true
      },
      "cell_type": "code",
      "source": "# Note: default arguements come after non-default arguements else you get a syntax error\n#SyntaxError: non-default argument follows default argument\ndef greet(name, greeting=\"Hello\", num_times):\n    for i in range(num_times):\n        print(greeting, name)",
      "execution_count": 34,
      "outputs": [
        {
          "output_type": "error",
          "ename": "SyntaxError",
          "evalue": "non-default argument follows default argument (<ipython-input-34-b765d9861111>, line 3)",
          "traceback": [
            "\u001b[0;36m  File \u001b[0;32m\"<ipython-input-34-b765d9861111>\"\u001b[0;36m, line \u001b[0;32m3\u001b[0m\n\u001b[0;31m    def greet(name, greeting=\"Hello\", num_times):\u001b[0m\n\u001b[0m             ^\u001b[0m\n\u001b[0;31mSyntaxError\u001b[0m\u001b[0;31m:\u001b[0m non-default argument follows default argument\n"
          ]
        }
      ]
    },
    {
      "metadata": {},
      "cell_type": "markdown",
      "source": "## Keyword vs positional arguments\nPython uses position to assign values to the variables in the input arguement.\n#### Rule:\n    First specify all positional arguements before the named arguement \\Keyword arguement"
    },
    {
      "metadata": {
        "trusted": true
      },
      "cell_type": "code",
      "source": "# All arguments are positional\ngreet('Namrata', 'Good morning', 4)",
      "execution_count": 35,
      "outputs": [
        {
          "output_type": "stream",
          "text": "Good morning Namrata\nGood morning Namrata\nGood morning Namrata\nGood morning Namrata\n",
          "name": "stdout"
        }
      ]
    },
    {
      "metadata": {
        "trusted": true
      },
      "cell_type": "code",
      "source": "greet('Namrata', 'Good morning', num_times=4)",
      "execution_count": 36,
      "outputs": [
        {
          "output_type": "stream",
          "text": "Good morning Namrata\nGood morning Namrata\nGood morning Namrata\nGood morning Namrata\n",
          "name": "stdout"
        }
      ]
    },
    {
      "metadata": {
        "trusted": true
      },
      "cell_type": "code",
      "source": "#First specify all positional arguements before the named arguement \\Keyword arguement\n#SyntaxError: positional argument follows keyword argument\ngreet('Namrata', greeting = 'Good morning', 4)# we specified the greeting arguement then a keyword arguement 4",
      "execution_count": 37,
      "outputs": [
        {
          "output_type": "error",
          "ename": "SyntaxError",
          "evalue": "positional argument follows keyword argument (<ipython-input-37-ca3b41207ba0>, line 3)",
          "traceback": [
            "\u001b[0;36m  File \u001b[0;32m\"<ipython-input-37-ca3b41207ba0>\"\u001b[0;36m, line \u001b[0;32m3\u001b[0m\n\u001b[0;31m    greet('Namrata', greeting = 'Good morning', 4)# we specified the greeting arguement then a keyword arguement 4\u001b[0m\n\u001b[0m                                               ^\u001b[0m\n\u001b[0;31mSyntaxError\u001b[0m\u001b[0;31m:\u001b[0m positional argument follows keyword argument\n"
          ]
        }
      ]
    },
    {
      "metadata": {},
      "cell_type": "markdown",
      "source": "## Modifying the values of the arguments passed into a function (primitive types)\n#### Note\n    Modifications made to the input arguement inside the function do not affect the variables that we passed in when we call the function\n    Assignment within a function does not affect the values in variables outside the function"
    },
    {
      "metadata": {
        "trusted": true
      },
      "cell_type": "code",
      "source": "def modifying_values_within_functions(a, b, c):\n    # Modifications made to the input arguement inside the function\n    # here we have already specified the values of a,b and c any attempt to change them outside the function will not work\n    a = 1000\n    b = 'A new string'\n    c = False\n    \n    print('Modified values inside the function a: %s, b: %s c: %s' % (a, b, c))",
      "execution_count": 38,
      "outputs": []
    },
    {
      "metadata": {
        "trusted": true
      },
      "cell_type": "code",
      "source": "# Lets try tom modify the arguements outside the function\nx = 20\ny = 'some string'\nz = True\n\nmodifying_values_within_functions(a=x, b=y, c=z) # calling the function returns a: 1000, b: A new string c: False\n                                                 # the values we assigned to a,b and c within the function",
      "execution_count": 39,
      "outputs": [
        {
          "output_type": "stream",
          "text": "Modified values inside the function a: 1000, b: A new string c: False\n",
          "name": "stdout"
        }
      ]
    },
    {
      "metadata": {
        "trusted": true
      },
      "cell_type": "code",
      "source": "#Lets check what x,y and z hold after the assignment in the arguement\nx, y, z",
      "execution_count": 40,
      "outputs": [
        {
          "output_type": "execute_result",
          "execution_count": 40,
          "data": {
            "text/plain": "(20, 'some string', True)"
          },
          "metadata": {}
        }
      ]
    },
    {
      "metadata": {
        "trusted": true
      },
      "cell_type": "code",
      "source": "# what if we assign other values to variables with the name a,b and c\na = 30\nb = 'some other string'\nc = True\n\nmodifying_values_within_functions(a=a, b=b, c=c)# calling the function returns a: 1000, b: A new string c: False\n                                                 # the values we assigned to a,b and c within the function",
      "execution_count": 41,
      "outputs": [
        {
          "output_type": "stream",
          "text": "Modified values inside the function a: 1000, b: A new string c: False\n",
          "name": "stdout"
        }
      ]
    },
    {
      "metadata": {
        "trusted": true
      },
      "cell_type": "code",
      "source": "#Lets check what a,b and c hold after the assignment in the arguement\n# Conclusion: Modifications made to the input arguement inside the function do not affect the variables that we passed in \n#when we call the function\n#Assignment within a function does not affect the values in variables outside the function\na, b, c",
      "execution_count": 42,
      "outputs": [
        {
          "output_type": "execute_result",
          "execution_count": 42,
          "data": {
            "text/plain": "(30, 'some other string', True)"
          },
          "metadata": {}
        }
      ]
    },
    {
      "metadata": {},
      "cell_type": "markdown",
      "source": "## Modifying lists passed as arguments into a function\n#### Note:\n    List modification using a function will affect the original list. append, remove operations will cahnge the list"
    },
    {
      "metadata": {
        "trusted": true
      },
      "cell_type": "code",
      "source": "my_list = ['Nisarg', 'Surbhi', 'Dev', 'Pradeep']",
      "execution_count": 43,
      "outputs": []
    },
    {
      "metadata": {
        "trusted": true
      },
      "cell_type": "code",
      "source": "# a function that adds a name kishan to the list each time we call the list\ndef add_to_list(some_list):\n    \n    some_list.append('Kishan')",
      "execution_count": 44,
      "outputs": []
    },
    {
      "metadata": {
        "trusted": true
      },
      "cell_type": "code",
      "source": "add_to_list(my_list)",
      "execution_count": 45,
      "outputs": []
    },
    {
      "metadata": {
        "trusted": true
      },
      "cell_type": "code",
      "source": "my_list # kishan is added to our original list",
      "execution_count": 46,
      "outputs": [
        {
          "output_type": "execute_result",
          "execution_count": 46,
          "data": {
            "text/plain": "['Nisarg', 'Surbhi', 'Dev', 'Pradeep', 'Kishan']"
          },
          "metadata": {}
        }
      ]
    },
    {
      "metadata": {
        "trusted": true
      },
      "cell_type": "code",
      "source": "# a function that removes the last two names from a list each time we call the list\ndef remove_from_list(some_list):\n    \n    some_list.pop()\n    some_list.pop()",
      "execution_count": 47,
      "outputs": []
    },
    {
      "metadata": {
        "trusted": true
      },
      "cell_type": "code",
      "source": "remove_from_list(my_list)",
      "execution_count": 48,
      "outputs": []
    },
    {
      "metadata": {
        "trusted": true
      },
      "cell_type": "code",
      "source": "my_list # kishan and Dev are removed",
      "execution_count": 49,
      "outputs": [
        {
          "output_type": "execute_result",
          "execution_count": 49,
          "data": {
            "text/plain": "['Nisarg', 'Surbhi', 'Dev']"
          },
          "metadata": {}
        }
      ]
    },
    {
      "metadata": {},
      "cell_type": "markdown",
      "source": "## Modifying dictionaries passed as arguments into functions"
    },
    {
      "metadata": {
        "trusted": true
      },
      "cell_type": "code",
      "source": "student_details = {\n    'name': 'Priya',\n    'active': True,\n    'address': 'Bangalore',\n    'score': 88\n}",
      "execution_count": 50,
      "outputs": []
    },
    {
      "metadata": {
        "trusted": true
      },
      "cell_type": "code",
      "source": "# a function that adds a key and value to a dictcionary\ndef add_phone_number(details):\n    details['phone'] = '+91 99347028489'",
      "execution_count": 51,
      "outputs": []
    },
    {
      "metadata": {
        "trusted": true
      },
      "cell_type": "code",
      "source": "add_phone_number(student_details)",
      "execution_count": 52,
      "outputs": []
    },
    {
      "metadata": {
        "trusted": true
      },
      "cell_type": "code",
      "source": "student_details # phone details are added\n",
      "execution_count": 53,
      "outputs": [
        {
          "output_type": "execute_result",
          "execution_count": 53,
          "data": {
            "text/plain": "{'active': True,\n 'address': 'Bangalore',\n 'name': 'Priya',\n 'phone': '+91 99347028489',\n 'score': 88}"
          },
          "metadata": {}
        }
      ]
    },
    {
      "metadata": {
        "trusted": true
      },
      "cell_type": "code",
      "source": "# a function that deletes/removes the address \ndef delete_address(details):\n    del details['address']",
      "execution_count": 54,
      "outputs": []
    },
    {
      "metadata": {
        "trusted": true
      },
      "cell_type": "code",
      "source": "delete_address(student_details)",
      "execution_count": 55,
      "outputs": []
    },
    {
      "metadata": {
        "trusted": true
      },
      "cell_type": "code",
      "source": "del student_details # this deletes the whole dictionary from python",
      "execution_count": 56,
      "outputs": []
    },
    {
      "metadata": {
        "trusted": true
      },
      "cell_type": "code",
      "source": "# This should be an error\nstudent_details",
      "execution_count": 57,
      "outputs": [
        {
          "output_type": "error",
          "ename": "NameError",
          "evalue": "name 'student_details' is not defined",
          "traceback": [
            "\u001b[0;31m---------------------------------------------------------------------------\u001b[0m",
            "\u001b[0;31mNameError\u001b[0m                                 Traceback (most recent call last)",
            "\u001b[0;32m<ipython-input-57-39ed4137d5a3>\u001b[0m in \u001b[0;36m<module>\u001b[0;34m()\u001b[0m\n\u001b[1;32m      1\u001b[0m \u001b[0;31m# This should be an error\u001b[0m\u001b[0;34m\u001b[0m\u001b[0;34m\u001b[0m\u001b[0m\n\u001b[0;32m----> 2\u001b[0;31m \u001b[0mstudent_details\u001b[0m\u001b[0;34m\u001b[0m\u001b[0m\n\u001b[0m",
            "\u001b[0;31mNameError\u001b[0m: name 'student_details' is not defined"
          ]
        }
      ]
    },
    {
      "metadata": {},
      "cell_type": "markdown",
      "source": "## Variables and scopes\nWe have two scopes as mentioned earlier the Global and the Local Scopes"
    },
    {
      "metadata": {
        "trusted": true
      },
      "cell_type": "code",
      "source": "# Global scope\nsome_num = 100\nsome_string = 'Anu'\nsome_list = ['a', 'b', 'c']",
      "execution_count": 58,
      "outputs": []
    },
    {
      "metadata": {
        "trusted": true
      },
      "cell_type": "code",
      "source": "some_num, some_string, some_list",
      "execution_count": 59,
      "outputs": [
        {
          "output_type": "execute_result",
          "execution_count": 59,
          "data": {
            "text/plain": "(100, 'Anu', ['a', 'b', 'c'])"
          },
          "metadata": {}
        }
      ]
    },
    {
      "metadata": {
        "trusted": true
      },
      "cell_type": "code",
      "source": "# local scope\ndef some_function(some_num, some_string, some_list):\n    print(some_num, some_string, some_list)",
      "execution_count": 60,
      "outputs": []
    },
    {
      "metadata": {
        "trusted": true
      },
      "cell_type": "code",
      "source": "some_function(44, \"Akshay Kumar\", [1, 4, 5,])",
      "execution_count": 61,
      "outputs": [
        {
          "output_type": "stream",
          "text": "44 Akshay Kumar [1, 4, 5]\n",
          "name": "stdout"
        }
      ]
    },
    {
      "metadata": {
        "trusted": true
      },
      "cell_type": "code",
      "source": "some_num, some_string, some_list",
      "execution_count": 62,
      "outputs": [
        {
          "output_type": "execute_result",
          "execution_count": 62,
          "data": {
            "text/plain": "(100, 'Anu', ['a', 'b', 'c'])"
          },
          "metadata": {}
        }
      ]
    },
    {
      "metadata": {
        "trusted": true
      },
      "cell_type": "code",
      "source": "# to clearly show the difference between local and global scope\n# Global scope\nsome_num = 100\nsome_string = 'Anu'\nsome_list = ['a', 'b', 'c']\n\n# Local scope\ndef some_function(some_num, some_string, some_list):\n    print(some_num, some_string, some_list)",
      "execution_count": 63,
      "outputs": []
    },
    {
      "metadata": {
        "trusted": true
      },
      "cell_type": "code",
      "source": "",
      "execution_count": null,
      "outputs": []
    }
  ],
  "metadata": {
    "kernelspec": {
      "name": "python3",
      "display_name": "Python 3",
      "language": "python"
    },
    "language_info": {
      "mimetype": "text/x-python",
      "nbconvert_exporter": "python",
      "name": "python",
      "file_extension": ".py",
      "version": "3.5.4",
      "pygments_lexer": "ipython3",
      "codemirror_mode": {
        "version": 3,
        "name": "ipython"
      }
    }
  },
  "nbformat": 4,
  "nbformat_minor": 2
}