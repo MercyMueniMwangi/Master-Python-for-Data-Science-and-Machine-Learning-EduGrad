{
 "cells": [
  {
   "cell_type": "markdown",
   "metadata": {},
   "source": [
    "# If Else Conditional Statements\n",
    "These statements help us make decisions.  They return bolean values that is false or tue unless otherwise modified. They are mostly used for evaluation.\n",
    "#### Note:\n",
    "     = is for assignment while == is for evaluation. This difference is very important."
   ]
  },
  {
   "cell_type": "markdown",
   "metadata": {},
   "source": [
    "## Important Information\n",
    "#### Evaluation/comparison operations include\n",
    "\n",
    "      x != y               # x is not equal to y\n",
    "      x &gt; y                # x is greater than y\n",
    "      x &lt; y                # x is less than y\n",
    "      x &gt;= y               # x is greater than or equal to y\n",
    "      x &lt;= y               # x is less than or equal to y\n",
    "      x is y               # x is the same as y\n",
    "      x is not y           # x is not the same as y\n",
    "      x == y               # x is equal to y\n",
    "#### We aslo have logical operators and, or, not\n",
    "\n",
    "If Else is used to execute conditional statements. A expression after the if statement is called the condition.\n",
    "It is also used for alternative execution, in which there are two possibilities and the condition determines which one gets executed\n",
    "\n",
    "For more information https://www.pythonlearn.com/html-008/cfbook004.html"
   ]
  },
  {
   "cell_type": "code",
   "execution_count": 1,
   "metadata": {},
   "outputs": [
    {
     "data": {
      "text/plain": [
       "True"
      ]
     },
     "execution_count": 1,
     "metadata": {},
     "output_type": "execute_result"
    }
   ],
   "source": [
    "#lets check if 1 is greater than 1\n",
    "1 > 0"
   ]
  },
  {
   "cell_type": "code",
   "execution_count": 2,
   "metadata": {},
   "outputs": [
    {
     "data": {
      "text/plain": [
       "True"
      ]
     },
     "execution_count": 2,
     "metadata": {},
     "output_type": "execute_result"
    }
   ],
   "source": [
    "#is 45 less than 99?\n",
    "45 < 99"
   ]
  },
  {
   "cell_type": "code",
   "execution_count": 3,
   "metadata": {},
   "outputs": [
    {
     "data": {
      "text/plain": [
       "False"
      ]
     },
     "execution_count": 3,
     "metadata": {},
     "output_type": "execute_result"
    }
   ],
   "source": [
    "#is 45 greater than 99?\n",
    "45 > 99"
   ]
  },
  {
   "cell_type": "code",
   "execution_count": 4,
   "metadata": {},
   "outputs": [
    {
     "data": {
      "text/plain": [
       "False"
      ]
     },
     "execution_count": 4,
     "metadata": {},
     "output_type": "execute_result"
    }
   ],
   "source": [
    "#is the length of Hello greater than 10\n",
    "len('Hello') > 10"
   ]
  },
  {
   "cell_type": "code",
   "execution_count": 5,
   "metadata": {},
   "outputs": [
    {
     "data": {
      "text/plain": [
       "True"
      ]
     },
     "execution_count": 5,
     "metadata": {},
     "output_type": "execute_result"
    }
   ],
   "source": [
    "#given a list is the maximum value less than 100\n",
    "max([1, 3, 5, 2, 9]) < 100"
   ]
  },
  {
   "cell_type": "code",
   "execution_count": 6,
   "metadata": {},
   "outputs": [
    {
     "data": {
      "text/plain": [
       "True"
      ]
     },
     "execution_count": 6,
     "metadata": {},
     "output_type": "execute_result"
    }
   ],
   "source": [
    "# is 9= or greater than 9\n",
    "9 >= 9"
   ]
  },
  {
   "cell_type": "code",
   "execution_count": 7,
   "metadata": {},
   "outputs": [
    {
     "data": {
      "text/plain": [
       "True"
      ]
     },
     "execution_count": 7,
     "metadata": {},
     "output_type": "execute_result"
    }
   ],
   "source": [
    "# is 8 less or equal to 8?\n",
    "8 <= 8"
   ]
  },
  {
   "cell_type": "code",
   "execution_count": 8,
   "metadata": {},
   "outputs": [
    {
     "data": {
      "text/plain": [
       "True"
      ]
     },
     "execution_count": 8,
     "metadata": {},
     "output_type": "execute_result"
    }
   ],
   "source": [
    "# to check if we divide 6 by 3 do we get a whole number \n",
    "6 % 3 == 0"
   ]
  },
  {
   "cell_type": "code",
   "execution_count": 9,
   "metadata": {},
   "outputs": [
    {
     "ename": "SyntaxError",
     "evalue": "can't assign to operator (<ipython-input-9-102298733df0>, line 2)",
     "output_type": "error",
     "traceback": [
      "\u001b[0;36m  File \u001b[0;32m\"<ipython-input-9-102298733df0>\"\u001b[0;36m, line \u001b[0;32m2\u001b[0m\n\u001b[0;31m    6 % 3 = 0\u001b[0m\n\u001b[0m             ^\u001b[0m\n\u001b[0;31mSyntaxError\u001b[0m\u001b[0;31m:\u001b[0m can't assign to operator\n"
     ]
    }
   ],
   "source": [
    "# if we use = the assignment sign instead of == the evaluation statemnet we get an erro, a syntax error\n",
    "6 % 3 = 0"
   ]
  },
  {
   "cell_type": "code",
   "execution_count": 11,
   "metadata": {},
   "outputs": [
    {
     "data": {
      "text/plain": [
       "True"
      ]
     },
     "execution_count": 11,
     "metadata": {},
     "output_type": "execute_result"
    }
   ],
   "source": [
    "#NOTE: given a==b is the same as b==a this checks is b is equal to a\n",
    "0 == 6 % 3"
   ]
  },
  {
   "cell_type": "markdown",
   "metadata": {},
   "source": [
    "## Building an if statement.\n",
    "This : marks the start of the if block"
   ]
  },
  {
   "cell_type": "code",
   "execution_count": 12,
   "metadata": {},
   "outputs": [],
   "source": [
    "# lets assign 10 to a variable some_num\n",
    "some_num = 10"
   ]
  },
  {
   "cell_type": "code",
   "execution_count": 13,
   "metadata": {},
   "outputs": [
    {
     "name": "stdout",
     "output_type": "stream",
     "text": [
      "The number is less than 20\n"
     ]
    }
   ],
   "source": [
    "# Here we are saying if some_num is less than 20 then return the statement \"The number is less than 20\"\n",
    "if some_num < 20:\n",
    "    print(\"The number is less than 20\")"
   ]
  },
  {
   "cell_type": "code",
   "execution_count": 14,
   "metadata": {},
   "outputs": [],
   "source": [
    "# Here we are saying if some_num is greater than 20 then return the statement \"The number is greater than 20\"\n",
    "# but because this does not meet the condition that some_num is greater than 20 it returns nothing\n",
    "if some_num > 20:\n",
    "    print(\"The number is greater than 20\")"
   ]
  },
  {
   "cell_type": "code",
   "execution_count": 15,
   "metadata": {},
   "outputs": [
    {
     "name": "stdout",
     "output_type": "stream",
     "text": [
      "The number is less than 20\n",
      "That is not a very high number\n",
      "10\n"
     ]
    }
   ],
   "source": [
    "# if some_num is less than 20 then return all the satetements in the if block\n",
    "if some_num < 20:\n",
    "    print(\"The number is less than 20\")\n",
    "    print(\"That is not a very high number\")\n",
    "    print(some_num)"
   ]
  },
  {
   "cell_type": "markdown",
   "metadata": {},
   "source": [
    "## If else condition\n",
    "If an if condition is not met the code returns nothing.\n",
    "To solve this we use the else condition. \n",
    "\n",
    "This : marks the start of the else block after the else condition."
   ]
  },
  {
   "cell_type": "code",
   "execution_count": 16,
   "metadata": {},
   "outputs": [
    {
     "name": "stdout",
     "output_type": "stream",
     "text": [
      "The number is less than 20\n"
     ]
    }
   ],
   "source": [
    "# this means if some_num is less than 20 return The number is less than 20\n",
    "# otherwise return The number is greater than 20 \n",
    "if some_num < 20:\n",
    "    print(\"The number is less than 20\")\n",
    "else:\n",
    "    print(\"The number is greater than 20\")"
   ]
  },
  {
   "cell_type": "markdown",
   "metadata": {},
   "source": [
    "## Multiple conditions/ Chained conditionals\n",
    "#### Here we use elif which is used to chain the if and esle conditions.\n",
    "Sometimes there are more than two possibilities we could check for given a number or value. One way to express a computation like that is a chained conditional"
   ]
  },
  {
   "cell_type": "code",
   "execution_count": 17,
   "metadata": {},
   "outputs": [],
   "source": [
    "some_num = 34"
   ]
  },
  {
   "cell_type": "code",
   "execution_count": 18,
   "metadata": {},
   "outputs": [
    {
     "name": "stdout",
     "output_type": "stream",
     "text": [
      "The number is between 0 and 50\n"
     ]
    }
   ],
   "source": [
    "# Here we also include the use of logical conditions and, or not\n",
    "# in this statement we say if  some_num is less or equal to 0 and less than 50 that is 0 <= some_num< 50\n",
    "# print \"The number is between 0 and 50\"\n",
    "# else if 50 <= some_num < 100 print \"The number is between 50 and 100\" and so on\n",
    "#NOTE: The conditions are checked in the order they appear\n",
    "if some_num >= 0 and some_num < 50:\n",
    "    print(\"The number is between 0 and 50\")\n",
    "elif some_num >= 50 and some_num < 100:\n",
    "    print(\"The number is between 50 and 100\")\n",
    "elif some_num >= 100 and some_num < 200:\n",
    "    print(\"The number is between 100 and 200\")\n",
    "elif some_num >= 200 and some_num < 300:\n",
    "    print(\"The number is between 200 and 300\")"
   ]
  },
  {
   "cell_type": "code",
   "execution_count": 19,
   "metadata": {},
   "outputs": [],
   "source": [
    "# lets assign False to a variable active.\n",
    "# False is boolean and we have only two boolean values False and True\n",
    "# That is False == Active and True == Not Actvive\n",
    "active = False"
   ]
  },
  {
   "cell_type": "code",
   "execution_count": 20,
   "metadata": {},
   "outputs": [
    {
     "name": "stdout",
     "output_type": "stream",
     "text": [
      "This account is not active\n"
     ]
    }
   ],
   "source": [
    "# active stands for false\n",
    "# here we check what if False is not active\n",
    "# we are checking if it is True and True = not active\n",
    "if not active:\n",
    "    print('This account is not active')"
   ]
  },
  {
   "cell_type": "code",
   "execution_count": 21,
   "metadata": {},
   "outputs": [
    {
     "name": "stdout",
     "output_type": "stream",
     "text": [
      "One of these conditions has to be true\n"
     ]
    }
   ],
   "source": [
    "# and means all conditions have to be met\n",
    "#or means only one condition should be met\n",
    "if some_num > 50 or not active:\n",
    "    print('One of these conditions has to be true')"
   ]
  },
  {
   "cell_type": "markdown",
   "metadata": {},
   "source": [
    "##### Here is some code to check if you have understood what you learned"
   ]
  },
  {
   "cell_type": "code",
   "execution_count": 22,
   "metadata": {},
   "outputs": [
    {
     "name": "stdout",
     "output_type": "stream",
     "text": [
      "The number is odd\n"
     ]
    }
   ],
   "source": [
    "num = 7\n",
    "\n",
    "if num % 2 == 0:\n",
    "    print('The number is even')\n",
    "else:\n",
    "    print('The number is odd')"
   ]
  },
  {
   "cell_type": "code",
   "execution_count": 23,
   "metadata": {},
   "outputs": [
    {
     "name": "stdout",
     "output_type": "stream",
     "text": [
      "You win!\n"
     ]
    }
   ],
   "source": [
    "if num == 7:\n",
    "    print('You win!')"
   ]
  },
  {
   "cell_type": "code",
   "execution_count": 24,
   "metadata": {},
   "outputs": [
    {
     "ename": "SyntaxError",
     "evalue": "invalid syntax (<ipython-input-24-92e935890b74>, line 1)",
     "output_type": "error",
     "traceback": [
      "\u001b[0;36m  File \u001b[0;32m\"<ipython-input-24-92e935890b74>\"\u001b[0;36m, line \u001b[0;32m1\u001b[0m\n\u001b[0;31m    if num = 7:\u001b[0m\n\u001b[0m           ^\u001b[0m\n\u001b[0;31mSyntaxError\u001b[0m\u001b[0;31m:\u001b[0m invalid syntax\n"
     ]
    }
   ],
   "source": [
    "if num = 7:\n",
    "    print('You win!')"
   ]
  },
  {
   "cell_type": "code",
   "execution_count": 25,
   "metadata": {},
   "outputs": [
    {
     "name": "stdout",
     "output_type": "stream",
     "text": [
      "The number is not 8\n"
     ]
    }
   ],
   "source": [
    "if num != 8:\n",
    "    print('The number is not 8')"
   ]
  },
  {
   "cell_type": "markdown",
   "metadata": {},
   "source": [
    "## If statements with lists and dictionaries"
   ]
  },
  {
   "cell_type": "code",
   "execution_count": 26,
   "metadata": {},
   "outputs": [],
   "source": [
    "student_list = ['Ayaz', 'Athira', 'Deb', 'Priya']"
   ]
  },
  {
   "cell_type": "code",
   "execution_count": 27,
   "metadata": {},
   "outputs": [
    {
     "name": "stdout",
     "output_type": "stream",
     "text": [
      "Yes he is a student at this school\n"
     ]
    }
   ],
   "source": [
    "# to check if a certain element is in your list\n",
    "if 'Ayaz' in student_list:\n",
    "    print('Yes he is a student at this school')"
   ]
  },
  {
   "cell_type": "code",
   "execution_count": 28,
   "metadata": {},
   "outputs": [],
   "source": [
    "if 'Anu' in student_list:\n",
    "    print('Yes she is a student in this school')"
   ]
  },
  {
   "cell_type": "code",
   "execution_count": 29,
   "metadata": {},
   "outputs": [],
   "source": [
    "math_scores = {\n",
    "    \"Ram\": 97, \n",
    "    \"Kumar\": 35,\n",
    "    \"Kishan\": 67,\n",
    "    \"Natasha\": 73\n",
    "}"
   ]
  },
  {
   "cell_type": "code",
   "execution_count": 30,
   "metadata": {},
   "outputs": [
    {
     "name": "stdout",
     "output_type": "stream",
     "text": [
      "Yes I do have scores for Ram\n"
     ]
    }
   ],
   "source": [
    "# to check if a certain key is in your dictionary\n",
    "if 'Ram' in math_scores:\n",
    "    print('Yes I do have scores for Ram')"
   ]
  },
  {
   "cell_type": "code",
   "execution_count": 31,
   "metadata": {},
   "outputs": [],
   "source": [
    "if 'Ayoub' in math_scores:\n",
    "    print('Yes I do have scores for Ayoub')"
   ]
  },
  {
   "cell_type": "code",
   "execution_count": null,
   "metadata": {},
   "outputs": [],
   "source": []
  }
 ],
 "metadata": {
  "kernelspec": {
   "display_name": "Python 3",
   "language": "python",
   "name": "python3"
  },
  "language_info": {
   "codemirror_mode": {
    "name": "ipython",
    "version": 3
   },
   "file_extension": ".py",
   "mimetype": "text/x-python",
   "name": "python",
   "nbconvert_exporter": "python",
   "pygments_lexer": "ipython3",
   "version": "3.5.4"
  }
 },
 "nbformat": 4,
 "nbformat_minor": 2
}
